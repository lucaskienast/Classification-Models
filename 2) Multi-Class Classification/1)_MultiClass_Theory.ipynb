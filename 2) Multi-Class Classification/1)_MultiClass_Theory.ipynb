{
  "nbformat": 4,
  "nbformat_minor": 0,
  "metadata": {
    "colab": {
      "name": "1) MultiClass Theory.ipynb",
      "provenance": [],
      "collapsed_sections": []
    },
    "kernelspec": {
      "name": "python3",
      "display_name": "Python 3"
    },
    "language_info": {
      "name": "python"
    }
  },
  "cells": [
    {
      "cell_type": "markdown",
      "metadata": {
        "id": "0zTFL8cXRJSp"
      },
      "source": [
        "# Multi-Class Classification: Theory\n",
        "\n",
        "Multi-class classification refers to those classification tasks that have more than two class labels. Examples include:\n",
        "\n",
        "- Face classification\n",
        "- Plant species classification\n",
        "- Optical character recognition\n",
        "\n",
        "Unlike binary classification, multi-class classification does not have the notion of normal and abnormal outcomes. Instead, examples are classified as belonging to one among a range of known classes. The number of class labels may be very large on some problems. For example, a model may predict a photo as belonging to one among thousands or tens of thousands of faces in a face recognition system.\n",
        "\n",
        "It is common to model a multi-class classification task with a model that predicts a Multinoulli probability distribution for each example. The Multinoulli distribution is a discrete probability distribution that covers a case where an event will have a categorical outcome, e.g. K in {1, 2, 3, …, K}. For classification, this means that the model predicts the probability of an example belonging to each class label.\n",
        "\n",
        "Many algorithms used for binary classification can be used for multi-class classification. Popular algorithms that can be used for multi-class classification include:\n",
        "\n",
        "- k-Nearest Neighbors\n",
        "- Decision Trees\n",
        "- Naive Bayes\n",
        "- Random Forest\n",
        "- Gradient Boosting\n",
        "\n",
        "Algorithms that are designed for binary classification can be adapted for use for multi-class problems. This involves using a strategy of fitting multiple binary classification models for each class vs. all other classes (called one-vs-rest) or one model for each pair of classes (called one-vs-one).\n",
        "\n",
        "- One-vs-Rest: Fit one binary classification model for each class vs. all other classes.\n",
        "- One-vs-One: Fit one binary classification model for each pair of classes.\n",
        "\n",
        "Binary classification algorithms that can use these strategies for multi-class classification include:\n",
        "\n",
        "- Logistic Regression\n",
        "- Support Vector Machine\n",
        "\n",
        "Next, let’s take a closer look at a dataset to develop an intuition for multi-class classification problems. We can use the make_blobs() function to generate a synthetic multi-class classification dataset. The example below generates a dataset with 1,000 examples that belong to one of three classes, each with two input features."
      ]
    },
    {
      "cell_type": "markdown",
      "metadata": {
        "id": "33XeveQhSW-E"
      },
      "source": [
        "## Import libraries"
      ]
    },
    {
      "cell_type": "code",
      "metadata": {
        "id": "zT-NyFOIRIg5"
      },
      "source": [
        "import numpy as np\n",
        "import matplotlib.pyplot as plt\n",
        "from sklearn.datasets import make_blobs\n",
        "from collections import Counter"
      ],
      "execution_count": 1,
      "outputs": []
    },
    {
      "cell_type": "markdown",
      "metadata": {
        "id": "wjdt470iSlMZ"
      },
      "source": [
        "## Create datasets"
      ]
    },
    {
      "cell_type": "code",
      "metadata": {
        "id": "sNAdMFXQSkiA"
      },
      "source": [
        "# define dataset\n",
        "X, y = make_blobs(n_samples=1000, centers=3, random_state=1)"
      ],
      "execution_count": 2,
      "outputs": []
    },
    {
      "cell_type": "markdown",
      "metadata": {
        "id": "cY0SoOWPSrcc"
      },
      "source": [
        "## Explore datasets"
      ]
    },
    {
      "cell_type": "code",
      "metadata": {
        "colab": {
          "base_uri": "https://localhost:8080/"
        },
        "id": "zx6kEL_NSpfe",
        "outputId": "2eb7e0b0-b02f-4d24-e2d2-6db5f7bac5d8"
      },
      "source": [
        "# summarize dataset shape\n",
        "print(X.shape, y.shape)"
      ],
      "execution_count": 3,
      "outputs": [
        {
          "output_type": "stream",
          "text": [
            "(1000, 2) (1000,)\n"
          ],
          "name": "stdout"
        }
      ]
    },
    {
      "cell_type": "code",
      "metadata": {
        "colab": {
          "base_uri": "https://localhost:8080/"
        },
        "id": "kSFKui_0SzLW",
        "outputId": "c9803b36-d62b-4a17-f5cd-9415b9064be8"
      },
      "source": [
        "# summarize observations by class label\n",
        "counter = Counter(y)\n",
        "print(counter)"
      ],
      "execution_count": 4,
      "outputs": [
        {
          "output_type": "stream",
          "text": [
            "Counter({0: 334, 1: 333, 2: 333})\n"
          ],
          "name": "stdout"
        }
      ]
    },
    {
      "cell_type": "code",
      "metadata": {
        "colab": {
          "base_uri": "https://localhost:8080/"
        },
        "id": "FMOKVWjTS3F_",
        "outputId": "71b17afe-5d15-4c75-93ba-ea5e9af0fec9"
      },
      "source": [
        "# summarize first few examples\n",
        "for i in range(10):\n",
        "\tprint(X[i], y[i])"
      ],
      "execution_count": 5,
      "outputs": [
        {
          "output_type": "stream",
          "text": [
            "[-3.05837272  4.48825769] 0\n",
            "[-8.60973869 -3.72714879] 1\n",
            "[1.37129721 5.23107449] 0\n",
            "[-9.33917563 -2.9544469 ] 1\n",
            "[-8.63895561 -8.05263469] 2\n",
            "[-8.48974309 -9.05667083] 2\n",
            "[-7.51235546 -7.96464519] 2\n",
            "[-7.51320529 -7.46053919] 2\n",
            "[-0.61947075  3.48804983] 0\n",
            "[-10.91115591  -4.5772537 ] 1\n"
          ],
          "name": "stdout"
        }
      ]
    },
    {
      "cell_type": "markdown",
      "metadata": {
        "id": "emGYYY2rS7IN"
      },
      "source": [
        "## Plot data"
      ]
    },
    {
      "cell_type": "code",
      "metadata": {
        "colab": {
          "base_uri": "https://localhost:8080/",
          "height": 446
        },
        "id": "wVdgcHHgS5o8",
        "outputId": "b07afe78-f0b1-4c3b-c83f-6ad163c367ea"
      },
      "source": [
        "# plot the dataset and color the by class label\n",
        "plt.figure(figsize=(14,7))\n",
        "\n",
        "for label, popsize in counter.items():\n",
        "\trow_idx = np.where(y == label)[0]\n",
        "\tplt.scatter(X[row_idx, 0], X[row_idx, 1], label=str(label))\n",
        " \n",
        "plt.legend(fontsize=14)\n",
        "plt.xlabel(\"X\", fontsize=14)\n",
        "plt.ylabel(\"y\", fontsize=14)\n",
        "plt.show()"
      ],
      "execution_count": 6,
      "outputs": [
        {
          "output_type": "display_data",
          "data": {
            "image/png": "[encoded data removed]",
            "text/plain": [
              "<Figure size 1008x504 with 1 Axes>"
            ]
          },
          "metadata": {
            "needs_background": "light"
          }
        }
      ]
    },
    {
      "cell_type": "code",
      "metadata": {
        "id": "ocDR-k5ZTFWg"
      },
      "source": [
        ""
      ],
      "execution_count": 6,
      "outputs": []
    }
  ]
}