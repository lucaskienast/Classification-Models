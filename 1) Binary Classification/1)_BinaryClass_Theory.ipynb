{
  "nbformat": 4,
  "nbformat_minor": 0,
  "metadata": {
    "colab": {
      "name": "1) BinaryClass Theory.ipynb",
      "provenance": [],
      "collapsed_sections": []
    },
    "kernelspec": {
      "name": "python3",
      "display_name": "Python 3"
    },
    "language_info": {
      "name": "python"
    }
  },
  "cells": [
    {
      "cell_type": "markdown",
      "metadata": {
        "id": "xDq8sZt7NMHF"
      },
      "source": [
        "# Binary Classification: Theory\n",
        "\n",
        "Binary classification refers to those classification tasks that have two class labels.\n",
        "\n",
        "Examples include:\n",
        "\n",
        "- Email spam detection (spam or not).\n",
        "- Churn prediction (churn or not).\n",
        "- Conversion prediction (buy or not).\n",
        "\n",
        "Typically, binary classification tasks involve one class that is the normal state and another class that is the abnormal state. For example “not spam” is the normal state and “spam” is the abnormal state. Another example is “cancer not detected” is the normal state of a task that involves a medical test and “cancer detected” is the abnormal state. The class for the normal state is assigned the class label 0 and the class with the abnormal state is assigned the class label 1. \n",
        "\n",
        "It is common to model a binary classification task with a model that predicts a Bernoulli probability distribution for each example. The Bernoulli distribution is a discrete probability distribution that covers a case where an event will have a binary outcome as either a 0 or 1. For classification, this means that the model predicts a probability of an example belonging to class 1, or the abnormal state.\n",
        "\n",
        "Popular algorithms that can be used for binary classification include:\n",
        "\n",
        "- Logistic Regression\n",
        "- k-Nearest Neighbors\n",
        "- Decision Trees\n",
        "- Support Vector Machine\n",
        "- Naive Bayes\n",
        "\n",
        "Some algorithms are specifically designed for binary classification and do not natively support more than two classes; examples include Logistic Regression and Support Vector Machines."
      ]
    },
    {
      "cell_type": "markdown",
      "metadata": {
        "id": "I3EOpfZgNk00"
      },
      "source": [
        "Next, let’s take a closer look at a dataset to develop an intuition for binary classification problems. We can use the make_blobs() function to generate a synthetic binary classification dataset. The example below generates a dataset with 1,000 examples that belong to one of two classes, each with two input features."
      ]
    },
    {
      "cell_type": "markdown",
      "metadata": {
        "id": "YntD4WwdNub8"
      },
      "source": [
        "## Import libraries"
      ]
    },
    {
      "cell_type": "code",
      "metadata": {
        "id": "ZHnhJCMXxfEf"
      },
      "source": [
        "import numpy as np\n",
        "import matplotlib.pyplot as plt\n",
        "from sklearn.datasets import make_blobs\n",
        "from collections import Counter"
      ],
      "execution_count": 1,
      "outputs": []
    },
    {
      "cell_type": "markdown",
      "metadata": {
        "id": "yQKTbk2tOQSh"
      },
      "source": [
        "## Create dataset"
      ]
    },
    {
      "cell_type": "code",
      "metadata": {
        "id": "jgz3QxkmOAIG"
      },
      "source": [
        "# define dataset\n",
        "X, y = make_blobs(n_samples=1000, centers=2, random_state=1)"
      ],
      "execution_count": 2,
      "outputs": []
    },
    {
      "cell_type": "markdown",
      "metadata": {
        "id": "3OQpAnIhOlzs"
      },
      "source": [
        "## Explore dataset"
      ]
    },
    {
      "cell_type": "code",
      "metadata": {
        "colab": {
          "base_uri": "https://localhost:8080/"
        },
        "id": "GBdL54OZOWsT",
        "outputId": "32449df8-ae1e-45f0-be09-24362959b8fd"
      },
      "source": [
        "# summarize dataset shape\n",
        "print(X.shape, y.shape)"
      ],
      "execution_count": 3,
      "outputs": [
        {
          "output_type": "stream",
          "text": [
            "(1000, 2) (1000,)\n"
          ],
          "name": "stdout"
        }
      ]
    },
    {
      "cell_type": "code",
      "metadata": {
        "colab": {
          "base_uri": "https://localhost:8080/"
        },
        "id": "mOxcCMVSObzD",
        "outputId": "79c84984-b3a4-4e2c-98d4-0182d47539cb"
      },
      "source": [
        "# summarize observations by class label\n",
        "counter = Counter(y)\n",
        "print(counter)"
      ],
      "execution_count": 4,
      "outputs": [
        {
          "output_type": "stream",
          "text": [
            "Counter({0: 500, 1: 500})\n"
          ],
          "name": "stdout"
        }
      ]
    },
    {
      "cell_type": "code",
      "metadata": {
        "colab": {
          "base_uri": "https://localhost:8080/"
        },
        "id": "2ECraE3dOhhj",
        "outputId": "84787864-a177-43fc-c2b1-27c95a39bd00"
      },
      "source": [
        "# summarize first few examples\n",
        "for i in range(10):\n",
        "\tprint(X[i], y[i])"
      ],
      "execution_count": 5,
      "outputs": [
        {
          "output_type": "stream",
          "text": [
            "[-3.05837272  4.48825769] 0\n",
            "[-8.60973869 -3.72714879] 1\n",
            "[1.37129721 5.23107449] 0\n",
            "[-9.33917563 -2.9544469 ] 1\n",
            "[-11.57178593  -3.85275513] 1\n",
            "[-11.42257341  -4.85679127] 1\n",
            "[-10.44518578  -3.76476563] 1\n",
            "[-10.44603561  -3.26065964] 1\n",
            "[-0.61947075  3.48804983] 0\n",
            "[-10.91115591  -4.5772537 ] 1\n"
          ],
          "name": "stdout"
        }
      ]
    },
    {
      "cell_type": "markdown",
      "metadata": {
        "id": "g-sVeevqOrqj"
      },
      "source": [
        "## Plot dataset"
      ]
    },
    {
      "cell_type": "code",
      "metadata": {
        "colab": {
          "base_uri": "https://localhost:8080/",
          "height": 446
        },
        "id": "EI1fuO78Ok90",
        "outputId": "1444c1de-99ed-4944-b611-a153d5137890"
      },
      "source": [
        "# plot the dataset and color the by class label\n",
        "plt.figure(figsize=(14,7))\n",
        "\n",
        "for label, popsize in counter.items():\n",
        "\trow_idx = np.where(y == label)[0]\n",
        "\tplt.scatter(X[row_idx, 0], X[row_idx, 1], label=str(label))\n",
        " \n",
        "plt.legend(fontsize=14)\n",
        "plt.xlabel(\"X\", fontsize=14)\n",
        "plt.ylabel(\"y\", fontsize=14)\n",
        "plt.show()"
      ],
      "execution_count": 6,
      "outputs": [
        {
          "output_type": "display_data",
          "data": {
            "image/png": "[encoded data removed]",
            "text/plain": [
              "<Figure size 1008x504 with 1 Axes>"
            ]
          },
          "metadata": {
            "needs_background": "light"
          }
        }
      ]
    },
    {
      "cell_type": "code",
      "metadata": {
        "id": "1xd7IkN2OuoS"
      },
      "source": [
        ""
      ],
      "execution_count": 6,
      "outputs": []
    }
  ]
}