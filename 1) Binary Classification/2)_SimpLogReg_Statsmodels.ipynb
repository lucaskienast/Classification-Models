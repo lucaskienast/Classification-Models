{
  "nbformat": 4,
  "nbformat_minor": 0,
  "metadata": {
    "colab": {
      "name": "2) SimpLogReg Statsmodels.ipynb",
      "provenance": [],
      "collapsed_sections": [],
      "authorship_tag": "ABX9TyNWrjt1WwdL/gGQbmc1ksNJ"
    },
    "kernelspec": {
      "name": "python3",
      "display_name": "Python 3"
    },
    "language_info": {
      "name": "python"
    }
  },
  "cells": [
    {
      "cell_type": "markdown",
      "metadata": {
        "id": "nGdouieXsOB8"
      },
      "source": [
        "# Binary Classification: Simple Logistic Regression with Statsmodels\n",
        "\n",
        "Predict whether a bank client is likely to default on their loan or not.\n",
        "\n",
        "Note that interest rate indicates the 3-month interest rate between banks and duration indicates the time since the last contact was made with a given consumer. The previous variable shows whether the last marketing campaign was successful with this customer. The march and may are Boolean variables that account for when the call was made to the specific customer and credit shows if the customer has enough credit to avoid defaulting."
      ]
    },
    {
      "cell_type": "markdown",
      "metadata": {
        "id": "tZjDzwpIxFGI"
      },
      "source": [
        "## Import libraries"
      ]
    },
    {
      "cell_type": "code",
      "metadata": {
        "colab": {
          "base_uri": "https://localhost:8080/"
        },
        "id": "y7qNaQh6i1on",
        "executionInfo": {
          "status": "ok",
          "timestamp": 1630088713950,
          "user_tz": -120,
          "elapsed": 927,
          "user": {
            "displayName": "Max Lucas Kienast",
            "photoUrl": "",
            "userId": "18136220580306165387"
          }
        },
        "outputId": "2c83e50e-9bc0-45f9-a121-9beed9c4b1d8"
      },
      "source": [
        "import numpy as np\n",
        "import pandas as pd\n",
        "import matplotlib.pyplot as plt\n",
        "import statsmodels.api as sm\n",
        "from scipy import stats"
      ],
      "execution_count": 1,
      "outputs": [
        {
          "output_type": "stream",
          "text": [
            "/usr/local/lib/python3.7/dist-packages/statsmodels/tools/_testing.py:19: FutureWarning: pandas.util.testing is deprecated. Use the functions in the public API at pandas.testing instead.\n",
            "  import pandas.util.testing as tm\n"
          ],
          "name": "stderr"
        }
      ]
    },
    {
      "cell_type": "markdown",
      "metadata": {
        "id": "XFdUyhM7xRA5"
      },
      "source": [
        "## Load data"
      ]
    },
    {
      "cell_type": "code",
      "metadata": {
        "colab": {
          "base_uri": "https://localhost:8080/",
          "height": 204
        },
        "id": "o6Vol2qXxQL8",
        "executionInfo": {
          "status": "ok",
          "timestamp": 1630088713951,
          "user_tz": -120,
          "elapsed": 16,
          "user": {
            "displayName": "Max Lucas Kienast",
            "photoUrl": "",
            "userId": "18136220580306165387"
          }
        },
        "outputId": "201af6d5-24c3-4274-ea2d-2c231bcb82a1"
      },
      "source": [
        "# load bank csv data and store in df\n",
        "url = \"https://raw.githubusercontent.com/lucaskienast/Classification-Models/main/1)%20Binary%20Classification/Bank_data.csv\"\n",
        "df = pd.read_csv(url)\n",
        "df = df.drop([\"Unnamed: 0\"], axis=1)\n",
        "df.head()"
      ],
      "execution_count": 2,
      "outputs": [
        {
          "output_type": "execute_result",
          "data": {
            "text/html": [
              "<div>\n",
              "<style scoped>\n",
              "    .dataframe tbody tr th:only-of-type {\n",
              "        vertical-align: middle;\n",
              "    }\n",
              "\n",
              "    .dataframe tbody tr th {\n",
              "        vertical-align: top;\n",
              "    }\n",
              "\n",
              "    .dataframe thead th {\n",
              "        text-align: right;\n",
              "    }\n",
              "</style>\n",
              "<table border=\"1\" class=\"dataframe\">\n",
              "  <thead>\n",
              "    <tr style=\"text-align: right;\">\n",
              "      <th></th>\n",
              "      <th>interest_rate</th>\n",
              "      <th>credit</th>\n",
              "      <th>march</th>\n",
              "      <th>may</th>\n",
              "      <th>previous</th>\n",
              "      <th>duration</th>\n",
              "      <th>y</th>\n",
              "    </tr>\n",
              "  </thead>\n",
              "  <tbody>\n",
              "    <tr>\n",
              "      <th>0</th>\n",
              "      <td>1.334</td>\n",
              "      <td>0.0</td>\n",
              "      <td>1.0</td>\n",
              "      <td>0.0</td>\n",
              "      <td>0.0</td>\n",
              "      <td>117.0</td>\n",
              "      <td>no</td>\n",
              "    </tr>\n",
              "    <tr>\n",
              "      <th>1</th>\n",
              "      <td>0.767</td>\n",
              "      <td>0.0</td>\n",
              "      <td>0.0</td>\n",
              "      <td>2.0</td>\n",
              "      <td>1.0</td>\n",
              "      <td>274.0</td>\n",
              "      <td>yes</td>\n",
              "    </tr>\n",
              "    <tr>\n",
              "      <th>2</th>\n",
              "      <td>4.858</td>\n",
              "      <td>0.0</td>\n",
              "      <td>1.0</td>\n",
              "      <td>0.0</td>\n",
              "      <td>0.0</td>\n",
              "      <td>167.0</td>\n",
              "      <td>no</td>\n",
              "    </tr>\n",
              "    <tr>\n",
              "      <th>3</th>\n",
              "      <td>4.120</td>\n",
              "      <td>0.0</td>\n",
              "      <td>0.0</td>\n",
              "      <td>0.0</td>\n",
              "      <td>0.0</td>\n",
              "      <td>686.0</td>\n",
              "      <td>yes</td>\n",
              "    </tr>\n",
              "    <tr>\n",
              "      <th>4</th>\n",
              "      <td>4.856</td>\n",
              "      <td>0.0</td>\n",
              "      <td>1.0</td>\n",
              "      <td>0.0</td>\n",
              "      <td>0.0</td>\n",
              "      <td>157.0</td>\n",
              "      <td>no</td>\n",
              "    </tr>\n",
              "  </tbody>\n",
              "</table>\n",
              "</div>"
            ],
            "text/plain": [
              "   interest_rate  credit  march  may  previous  duration    y\n",
              "0          1.334     0.0    1.0  0.0       0.0     117.0   no\n",
              "1          0.767     0.0    0.0  2.0       1.0     274.0  yes\n",
              "2          4.858     0.0    1.0  0.0       0.0     167.0   no\n",
              "3          4.120     0.0    0.0  0.0       0.0     686.0  yes\n",
              "4          4.856     0.0    1.0  0.0       0.0     157.0   no"
            ]
          },
          "metadata": {},
          "execution_count": 2
        }
      ]
    },
    {
      "cell_type": "markdown",
      "metadata": {
        "id": "g1DlXBC3x3K9"
      },
      "source": [
        "## Map target: yes/no -> 1/0"
      ]
    },
    {
      "cell_type": "code",
      "metadata": {
        "colab": {
          "base_uri": "https://localhost:8080/",
          "height": 204
        },
        "id": "pe1fNU68xX4B",
        "executionInfo": {
          "status": "ok",
          "timestamp": 1630088713951,
          "user_tz": -120,
          "elapsed": 14,
          "user": {
            "displayName": "Max Lucas Kienast",
            "photoUrl": "",
            "userId": "18136220580306165387"
          }
        },
        "outputId": "ee88a5df-4e01-4a7e-9c1f-475adc1ca204"
      },
      "source": [
        "# change yes/no in column y to 1/0\n",
        "df[\"y\"] = np.where(df[\"y\"]==\"yes\", 1, 0)\n",
        "df.head()"
      ],
      "execution_count": 3,
      "outputs": [
        {
          "output_type": "execute_result",
          "data": {
            "text/html": [
              "<div>\n",
              "<style scoped>\n",
              "    .dataframe tbody tr th:only-of-type {\n",
              "        vertical-align: middle;\n",
              "    }\n",
              "\n",
              "    .dataframe tbody tr th {\n",
              "        vertical-align: top;\n",
              "    }\n",
              "\n",
              "    .dataframe thead th {\n",
              "        text-align: right;\n",
              "    }\n",
              "</style>\n",
              "<table border=\"1\" class=\"dataframe\">\n",
              "  <thead>\n",
              "    <tr style=\"text-align: right;\">\n",
              "      <th></th>\n",
              "      <th>interest_rate</th>\n",
              "      <th>credit</th>\n",
              "      <th>march</th>\n",
              "      <th>may</th>\n",
              "      <th>previous</th>\n",
              "      <th>duration</th>\n",
              "      <th>y</th>\n",
              "    </tr>\n",
              "  </thead>\n",
              "  <tbody>\n",
              "    <tr>\n",
              "      <th>0</th>\n",
              "      <td>1.334</td>\n",
              "      <td>0.0</td>\n",
              "      <td>1.0</td>\n",
              "      <td>0.0</td>\n",
              "      <td>0.0</td>\n",
              "      <td>117.0</td>\n",
              "      <td>0</td>\n",
              "    </tr>\n",
              "    <tr>\n",
              "      <th>1</th>\n",
              "      <td>0.767</td>\n",
              "      <td>0.0</td>\n",
              "      <td>0.0</td>\n",
              "      <td>2.0</td>\n",
              "      <td>1.0</td>\n",
              "      <td>274.0</td>\n",
              "      <td>1</td>\n",
              "    </tr>\n",
              "    <tr>\n",
              "      <th>2</th>\n",
              "      <td>4.858</td>\n",
              "      <td>0.0</td>\n",
              "      <td>1.0</td>\n",
              "      <td>0.0</td>\n",
              "      <td>0.0</td>\n",
              "      <td>167.0</td>\n",
              "      <td>0</td>\n",
              "    </tr>\n",
              "    <tr>\n",
              "      <th>3</th>\n",
              "      <td>4.120</td>\n",
              "      <td>0.0</td>\n",
              "      <td>0.0</td>\n",
              "      <td>0.0</td>\n",
              "      <td>0.0</td>\n",
              "      <td>686.0</td>\n",
              "      <td>1</td>\n",
              "    </tr>\n",
              "    <tr>\n",
              "      <th>4</th>\n",
              "      <td>4.856</td>\n",
              "      <td>0.0</td>\n",
              "      <td>1.0</td>\n",
              "      <td>0.0</td>\n",
              "      <td>0.0</td>\n",
              "      <td>157.0</td>\n",
              "      <td>0</td>\n",
              "    </tr>\n",
              "  </tbody>\n",
              "</table>\n",
              "</div>"
            ],
            "text/plain": [
              "   interest_rate  credit  march  may  previous  duration  y\n",
              "0          1.334     0.0    1.0  0.0       0.0     117.0  0\n",
              "1          0.767     0.0    0.0  2.0       1.0     274.0  1\n",
              "2          4.858     0.0    1.0  0.0       0.0     167.0  0\n",
              "3          4.120     0.0    0.0  0.0       0.0     686.0  1\n",
              "4          4.856     0.0    1.0  0.0       0.0     157.0  0"
            ]
          },
          "metadata": {},
          "execution_count": 3
        }
      ]
    },
    {
      "cell_type": "markdown",
      "metadata": {
        "id": "qIgLAtMJyQ53"
      },
      "source": [
        "## Explore data"
      ]
    },
    {
      "cell_type": "code",
      "metadata": {
        "colab": {
          "base_uri": "https://localhost:8080/",
          "height": 297
        },
        "id": "AWrT6ZmTyKKZ",
        "executionInfo": {
          "status": "ok",
          "timestamp": 1630088713952,
          "user_tz": -120,
          "elapsed": 14,
          "user": {
            "displayName": "Max Lucas Kienast",
            "photoUrl": "",
            "userId": "18136220580306165387"
          }
        },
        "outputId": "9decc6ec-532b-43f7-c45d-0bb9cc4aaa04"
      },
      "source": [
        "# show summary descriptive statistics\n",
        "df.describe(include=\"all\")"
      ],
      "execution_count": 4,
      "outputs": [
        {
          "output_type": "execute_result",
          "data": {
            "text/html": [
              "<div>\n",
              "<style scoped>\n",
              "    .dataframe tbody tr th:only-of-type {\n",
              "        vertical-align: middle;\n",
              "    }\n",
              "\n",
              "    .dataframe tbody tr th {\n",
              "        vertical-align: top;\n",
              "    }\n",
              "\n",
              "    .dataframe thead th {\n",
              "        text-align: right;\n",
              "    }\n",
              "</style>\n",
              "<table border=\"1\" class=\"dataframe\">\n",
              "  <thead>\n",
              "    <tr style=\"text-align: right;\">\n",
              "      <th></th>\n",
              "      <th>interest_rate</th>\n",
              "      <th>credit</th>\n",
              "      <th>march</th>\n",
              "      <th>may</th>\n",
              "      <th>previous</th>\n",
              "      <th>duration</th>\n",
              "      <th>y</th>\n",
              "    </tr>\n",
              "  </thead>\n",
              "  <tbody>\n",
              "    <tr>\n",
              "      <th>count</th>\n",
              "      <td>518.000000</td>\n",
              "      <td>518.000000</td>\n",
              "      <td>518.000000</td>\n",
              "      <td>518.000000</td>\n",
              "      <td>518.000000</td>\n",
              "      <td>518.000000</td>\n",
              "      <td>518.000000</td>\n",
              "    </tr>\n",
              "    <tr>\n",
              "      <th>mean</th>\n",
              "      <td>2.835776</td>\n",
              "      <td>0.034749</td>\n",
              "      <td>0.266409</td>\n",
              "      <td>0.388031</td>\n",
              "      <td>0.127413</td>\n",
              "      <td>382.177606</td>\n",
              "      <td>0.500000</td>\n",
              "    </tr>\n",
              "    <tr>\n",
              "      <th>std</th>\n",
              "      <td>1.876903</td>\n",
              "      <td>0.183321</td>\n",
              "      <td>0.442508</td>\n",
              "      <td>0.814527</td>\n",
              "      <td>0.333758</td>\n",
              "      <td>344.295990</td>\n",
              "      <td>0.500483</td>\n",
              "    </tr>\n",
              "    <tr>\n",
              "      <th>min</th>\n",
              "      <td>0.635000</td>\n",
              "      <td>0.000000</td>\n",
              "      <td>0.000000</td>\n",
              "      <td>0.000000</td>\n",
              "      <td>0.000000</td>\n",
              "      <td>9.000000</td>\n",
              "      <td>0.000000</td>\n",
              "    </tr>\n",
              "    <tr>\n",
              "      <th>25%</th>\n",
              "      <td>1.042750</td>\n",
              "      <td>0.000000</td>\n",
              "      <td>0.000000</td>\n",
              "      <td>0.000000</td>\n",
              "      <td>0.000000</td>\n",
              "      <td>155.000000</td>\n",
              "      <td>0.000000</td>\n",
              "    </tr>\n",
              "    <tr>\n",
              "      <th>50%</th>\n",
              "      <td>1.466000</td>\n",
              "      <td>0.000000</td>\n",
              "      <td>0.000000</td>\n",
              "      <td>0.000000</td>\n",
              "      <td>0.000000</td>\n",
              "      <td>266.500000</td>\n",
              "      <td>0.500000</td>\n",
              "    </tr>\n",
              "    <tr>\n",
              "      <th>75%</th>\n",
              "      <td>4.956500</td>\n",
              "      <td>0.000000</td>\n",
              "      <td>1.000000</td>\n",
              "      <td>0.000000</td>\n",
              "      <td>0.000000</td>\n",
              "      <td>482.750000</td>\n",
              "      <td>1.000000</td>\n",
              "    </tr>\n",
              "    <tr>\n",
              "      <th>max</th>\n",
              "      <td>4.970000</td>\n",
              "      <td>1.000000</td>\n",
              "      <td>1.000000</td>\n",
              "      <td>5.000000</td>\n",
              "      <td>1.000000</td>\n",
              "      <td>2653.000000</td>\n",
              "      <td>1.000000</td>\n",
              "    </tr>\n",
              "  </tbody>\n",
              "</table>\n",
              "</div>"
            ],
            "text/plain": [
              "       interest_rate      credit  ...     duration           y\n",
              "count     518.000000  518.000000  ...   518.000000  518.000000\n",
              "mean        2.835776    0.034749  ...   382.177606    0.500000\n",
              "std         1.876903    0.183321  ...   344.295990    0.500483\n",
              "min         0.635000    0.000000  ...     9.000000    0.000000\n",
              "25%         1.042750    0.000000  ...   155.000000    0.000000\n",
              "50%         1.466000    0.000000  ...   266.500000    0.500000\n",
              "75%         4.956500    0.000000  ...   482.750000    1.000000\n",
              "max         4.970000    1.000000  ...  2653.000000    1.000000\n",
              "\n",
              "[8 rows x 7 columns]"
            ]
          },
          "metadata": {},
          "execution_count": 4
        }
      ]
    },
    {
      "cell_type": "markdown",
      "metadata": {
        "id": "nsoCyfdFyZlW"
      },
      "source": [
        "## Declare features and targets"
      ]
    },
    {
      "cell_type": "code",
      "metadata": {
        "id": "65u6ROXlyXIg",
        "executionInfo": {
          "status": "ok",
          "timestamp": 1630088713952,
          "user_tz": -120,
          "elapsed": 13,
          "user": {
            "displayName": "Max Lucas Kienast",
            "photoUrl": "",
            "userId": "18136220580306165387"
          }
        }
      },
      "source": [
        "# create feature (X) and target (y) variables\n",
        "y = df[\"y\"]\n",
        "X1 = df[\"duration\"]"
      ],
      "execution_count": 5,
      "outputs": []
    },
    {
      "cell_type": "markdown",
      "metadata": {
        "id": "h1B4pYYEyqa6"
      },
      "source": [
        "## Create Simple Logistic Regression Model"
      ]
    },
    {
      "cell_type": "code",
      "metadata": {
        "colab": {
          "base_uri": "https://localhost:8080/"
        },
        "id": "eO9Gm2SjygXJ",
        "executionInfo": {
          "status": "ok",
          "timestamp": 1630088713952,
          "user_tz": -120,
          "elapsed": 13,
          "user": {
            "displayName": "Max Lucas Kienast",
            "photoUrl": "",
            "userId": "18136220580306165387"
          }
        },
        "outputId": "55b70c63-6b24-40ef-ceb2-9963bdc9ed69"
      },
      "source": [
        "# build model\n",
        "X = sm.add_constant(X1) # y-intercept\n",
        "log_reg = sm.Logit(y, X)\n",
        "log_results = log_reg.fit()"
      ],
      "execution_count": 6,
      "outputs": [
        {
          "output_type": "stream",
          "text": [
            "Optimization terminated successfully.\n",
            "         Current function value: 0.546118\n",
            "         Iterations 7\n"
          ],
          "name": "stdout"
        }
      ]
    },
    {
      "cell_type": "markdown",
      "metadata": {
        "id": "rQYldYLWy9FL"
      },
      "source": [
        "## Interpret Model"
      ]
    },
    {
      "cell_type": "code",
      "metadata": {
        "colab": {
          "base_uri": "https://localhost:8080/"
        },
        "id": "BxvMAJohy8Qe",
        "executionInfo": {
          "status": "ok",
          "timestamp": 1630088713953,
          "user_tz": -120,
          "elapsed": 12,
          "user": {
            "displayName": "Max Lucas Kienast",
            "photoUrl": "",
            "userId": "18136220580306165387"
          }
        },
        "outputId": "0bce02e3-a2f1-47f3-e017-00f27c4bb2df"
      },
      "source": [
        "# show summary of logit regression model\n",
        "print(log_results.summary())"
      ],
      "execution_count": 7,
      "outputs": [
        {
          "output_type": "stream",
          "text": [
            "                           Logit Regression Results                           \n",
            "==============================================================================\n",
            "Dep. Variable:                      y   No. Observations:                  518\n",
            "Model:                          Logit   Df Residuals:                      516\n",
            "Method:                           MLE   Df Model:                            1\n",
            "Date:                Fri, 27 Aug 2021   Pseudo R-squ.:                  0.2121\n",
            "Time:                        18:25:13   Log-Likelihood:                -282.89\n",
            "converged:                       True   LL-Null:                       -359.05\n",
            "Covariance Type:            nonrobust   LLR p-value:                 5.387e-35\n",
            "==============================================================================\n",
            "                 coef    std err          z      P>|z|      [0.025      0.975]\n",
            "------------------------------------------------------------------------------\n",
            "const         -1.7001      0.192     -8.863      0.000      -2.076      -1.324\n",
            "duration       0.0051      0.001      9.159      0.000       0.004       0.006\n",
            "==============================================================================\n"
          ],
          "name": "stdout"
        }
      ]
    },
    {
      "cell_type": "markdown",
      "metadata": {
        "id": "kE0NlIXEzGTF"
      },
      "source": [
        "The dependent variable is 'duration'. The model used is a Logit regression (logistic in common lingo), while the method - Maximum Likelihood Estimation (MLE). It has clearly converged after classifyin 518 observations.\n",
        "\n",
        "The Pseudo R-squared is 0.21 which is within the 'acceptable region'.\n",
        "\n",
        "The duration variable is significant and its coefficient is 0.0051.\n",
        "\n",
        "The constant is also significant and equals: -1.70"
      ]
    },
    {
      "cell_type": "markdown",
      "metadata": {
        "id": "31WKSaFqzV4a"
      },
      "source": [
        "The logit model goes as follows:\n",
        "\n",
        "$ log( \\frac{P(x)}{1-P(x)} ) = -1.7 + 0.0051 * duration $\n",
        "\n",
        "$ log( odds(x) ) = -1.7 + 0.0051 * t $\n",
        "\n",
        "Hence,\n",
        "\n",
        "$ log( odds(x_1) ) = -1.7 + 0.0051 * t_1 $\n",
        "\n",
        "$ log( odds(x_2) ) = -1.7 + 0.0051 * t_2 $\n",
        "\n",
        "That gives:\n",
        "\n",
        "\n",
        "$ log( \\frac{odds(x_1)}{odds(x_2)} ) = 0.0051 ( t_1 - t_2 ) $\n",
        "\n",
        "Taking the exponential:\n",
        "\n",
        "$ \\frac{odds(x_1)}{odds(x_2)} = exp^{0.0051 ( t_1 - t_2 )} $\n",
        "\n",
        "Assume $t_1 - t_2 = 100 days$:\n",
        "\n",
        "$ \\frac{odds(x_1)}{odds(x_2)} = exp^{0.0051*100} $\n",
        "\n",
        "$ \\frac{odds(x_1)}{odds(x_2)} = 1.7 $\n",
        "\n",
        "Therefore,\n",
        "\n",
        "$ odds(x_1) = 1.7 * odds(x_2) $\n",
        "\n",
        "So given person x1 has 100 more days to pay back their loan than x2, x1 is 1.7 times as likely to not default on it than x2."
      ]
    },
    {
      "cell_type": "markdown",
      "metadata": {
        "id": "SVenI9SS4azY"
      },
      "source": [
        "## Plot scatter plot"
      ]
    },
    {
      "cell_type": "code",
      "metadata": {
        "colab": {
          "base_uri": "https://localhost:8080/",
          "height": 451
        },
        "id": "Mn0zOmmk3Rxw",
        "executionInfo": {
          "status": "ok",
          "timestamp": 1630089123841,
          "user_tz": -120,
          "elapsed": 518,
          "user": {
            "displayName": "Max Lucas Kienast",
            "photoUrl": "",
            "userId": "18136220580306165387"
          }
        },
        "outputId": "65509a8d-e5fe-4094-d782-c3488beaf91e"
      },
      "source": [
        "# Create a scatter plot of x1 (Duration, no constant) and y (Subscribed)\n",
        "plt.figure(figsize=(14,7))\n",
        "plt.scatter(X1,y,color = 'C0')\n",
        "plt.xlabel('Duration', fontsize = 20)\n",
        "plt.ylabel('Subscription', fontsize = 20)\n",
        "plt.show()"
      ],
      "execution_count": 13,
      "outputs": [
        {
          "output_type": "display_data",
          "data": {
            "image/png": "[encoded data removed]",
            "text/plain": [
              "<Figure size 1008x504 with 1 Axes>"
            ]
          },
          "metadata": {
            "needs_background": "light"
          }
        }
      ]
    },
    {
      "cell_type": "code",
      "metadata": {
        "colab": {
          "base_uri": "https://localhost:8080/"
        },
        "id": "0G6iLtwR4f94",
        "executionInfo": {
          "status": "ok",
          "timestamp": 1630089194533,
          "user_tz": -120,
          "elapsed": 4,
          "user": {
            "displayName": "Max Lucas Kienast",
            "photoUrl": "",
            "userId": "18136220580306165387"
          }
        },
        "outputId": "62e1f88a-8a01-4f8c-8553-2b806b799505"
      },
      "source": [
        "np.exp(0.0051)"
      ],
      "execution_count": 14,
      "outputs": [
        {
          "output_type": "execute_result",
          "data": {
            "text/plain": [
              "1.005113027136717"
            ]
          },
          "metadata": {},
          "execution_count": 14
        }
      ]
    },
    {
      "cell_type": "markdown",
      "metadata": {
        "id": "X6N5e60v4zLa"
      },
      "source": [
        "The odds of duration are pretty close to 1. This tells us that although duration is a significant predictor, a change in 1 day would barely affect the regression.\n",
        "\n",
        "Note that we could have inferred that from the coefficient itself.\n",
        "\n",
        "Finally, note that the data is not standardized (scaled) and duration is a feature of a relatively big order of magnitude."
      ]
    },
    {
      "cell_type": "code",
      "metadata": {
        "id": "qYT7r1kd4yjl"
      },
      "source": [
        ""
      ],
      "execution_count": null,
      "outputs": []
    }
  ]
}
