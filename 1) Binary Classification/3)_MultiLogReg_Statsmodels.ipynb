{
  "nbformat": 4,
  "nbformat_minor": 0,
  "metadata": {
    "colab": {
      "name": "3) MultiLogReg Statsmodels.ipynb",
      "provenance": [],
      "collapsed_sections": [],
      "authorship_tag": "ABX9TyOQuwXEG9m0aNtdg4cD+wAe"
    },
    "kernelspec": {
      "name": "python3",
      "display_name": "Python 3"
    },
    "language_info": {
      "name": "python"
    }
  },
  "cells": [
    {
      "cell_type": "markdown",
      "metadata": {
        "id": "UrpQ-d6N8h4V"
      },
      "source": [
        "# Binary Classification: Multivariate Logistic Regression with Statsmodels\n",
        "\n",
        "Predict whether a bank client is likely to default on their loan or not.\n",
        "\n",
        "Note that interest rate indicates the 3-month interest rate between banks and duration indicates the time since the last contact was made with a given consumer. The previous variable shows whether the last marketing campaign was successful with this customer. The march and may are Boolean variables that account for when the call was made to the specific customer and credit shows if the customer has enough credit to avoid defaulting."
      ]
    },
    {
      "cell_type": "markdown",
      "metadata": {
        "id": "Fw9-UCuX8mXB"
      },
      "source": [
        "## Import libraries"
      ]
    },
    {
      "cell_type": "code",
      "metadata": {
        "colab": {
          "base_uri": "https://localhost:8080/"
        },
        "id": "VNfB1Yx9380O",
        "executionInfo": {
          "status": "ok",
          "timestamp": 1630094024699,
          "user_tz": -120,
          "elapsed": 373,
          "user": {
            "displayName": "Max Lucas Kienast",
            "photoUrl": "",
            "userId": "18136220580306165387"
          }
        },
        "outputId": "0bb48169-62a5-4ed4-ff21-9856c32d23bd"
      },
      "source": [
        "import numpy as np\n",
        "import pandas as pd\n",
        "import matplotlib.pyplot as plt\n",
        "import statsmodels.api as sm\n",
        "from scipy import stats"
      ],
      "execution_count": 1,
      "outputs": [
        {
          "output_type": "stream",
          "text": [
            "/usr/local/lib/python3.7/dist-packages/statsmodels/tools/_testing.py:19: FutureWarning: pandas.util.testing is deprecated. Use the functions in the public API at pandas.testing instead.\n",
            "  import pandas.util.testing as tm\n"
          ],
          "name": "stderr"
        }
      ]
    },
    {
      "cell_type": "markdown",
      "metadata": {
        "id": "fY1SF22i8r5n"
      },
      "source": [
        "## Load data"
      ]
    },
    {
      "cell_type": "code",
      "metadata": {
        "colab": {
          "base_uri": "https://localhost:8080/",
          "height": 204
        },
        "id": "UoSSGzLR8qSg",
        "executionInfo": {
          "status": "ok",
          "timestamp": 1630094025624,
          "user_tz": -120,
          "elapsed": 927,
          "user": {
            "displayName": "Max Lucas Kienast",
            "photoUrl": "",
            "userId": "18136220580306165387"
          }
        },
        "outputId": "0d743515-ebe4-4d66-ef7d-51605a34db40"
      },
      "source": [
        "# load bank csv data and store in df\n",
        "url = \"https://raw.githubusercontent.com/lucaskienast/Classification-Models/main/1)%20Binary%20Classification/Bank_data.csv\"\n",
        "df = pd.read_csv(url)\n",
        "df = df.drop([\"Unnamed: 0\"], axis=1)\n",
        "df.head()"
      ],
      "execution_count": 2,
      "outputs": [
        {
          "output_type": "execute_result",
          "data": {
            "text/html": [
              "<div>\n",
              "<style scoped>\n",
              "    .dataframe tbody tr th:only-of-type {\n",
              "        vertical-align: middle;\n",
              "    }\n",
              "\n",
              "    .dataframe tbody tr th {\n",
              "        vertical-align: top;\n",
              "    }\n",
              "\n",
              "    .dataframe thead th {\n",
              "        text-align: right;\n",
              "    }\n",
              "</style>\n",
              "<table border=\"1\" class=\"dataframe\">\n",
              "  <thead>\n",
              "    <tr style=\"text-align: right;\">\n",
              "      <th></th>\n",
              "      <th>interest_rate</th>\n",
              "      <th>credit</th>\n",
              "      <th>march</th>\n",
              "      <th>may</th>\n",
              "      <th>previous</th>\n",
              "      <th>duration</th>\n",
              "      <th>y</th>\n",
              "    </tr>\n",
              "  </thead>\n",
              "  <tbody>\n",
              "    <tr>\n",
              "      <th>0</th>\n",
              "      <td>1.334</td>\n",
              "      <td>0.0</td>\n",
              "      <td>1.0</td>\n",
              "      <td>0.0</td>\n",
              "      <td>0.0</td>\n",
              "      <td>117.0</td>\n",
              "      <td>no</td>\n",
              "    </tr>\n",
              "    <tr>\n",
              "      <th>1</th>\n",
              "      <td>0.767</td>\n",
              "      <td>0.0</td>\n",
              "      <td>0.0</td>\n",
              "      <td>2.0</td>\n",
              "      <td>1.0</td>\n",
              "      <td>274.0</td>\n",
              "      <td>yes</td>\n",
              "    </tr>\n",
              "    <tr>\n",
              "      <th>2</th>\n",
              "      <td>4.858</td>\n",
              "      <td>0.0</td>\n",
              "      <td>1.0</td>\n",
              "      <td>0.0</td>\n",
              "      <td>0.0</td>\n",
              "      <td>167.0</td>\n",
              "      <td>no</td>\n",
              "    </tr>\n",
              "    <tr>\n",
              "      <th>3</th>\n",
              "      <td>4.120</td>\n",
              "      <td>0.0</td>\n",
              "      <td>0.0</td>\n",
              "      <td>0.0</td>\n",
              "      <td>0.0</td>\n",
              "      <td>686.0</td>\n",
              "      <td>yes</td>\n",
              "    </tr>\n",
              "    <tr>\n",
              "      <th>4</th>\n",
              "      <td>4.856</td>\n",
              "      <td>0.0</td>\n",
              "      <td>1.0</td>\n",
              "      <td>0.0</td>\n",
              "      <td>0.0</td>\n",
              "      <td>157.0</td>\n",
              "      <td>no</td>\n",
              "    </tr>\n",
              "  </tbody>\n",
              "</table>\n",
              "</div>"
            ],
            "text/plain": [
              "   interest_rate  credit  march  may  previous  duration    y\n",
              "0          1.334     0.0    1.0  0.0       0.0     117.0   no\n",
              "1          0.767     0.0    0.0  2.0       1.0     274.0  yes\n",
              "2          4.858     0.0    1.0  0.0       0.0     167.0   no\n",
              "3          4.120     0.0    0.0  0.0       0.0     686.0  yes\n",
              "4          4.856     0.0    1.0  0.0       0.0     157.0   no"
            ]
          },
          "metadata": {},
          "execution_count": 2
        }
      ]
    },
    {
      "cell_type": "markdown",
      "metadata": {
        "id": "vCuIzIRu8yDA"
      },
      "source": [
        "## Map target: yes/no -> 1/0"
      ]
    },
    {
      "cell_type": "code",
      "metadata": {
        "colab": {
          "base_uri": "https://localhost:8080/",
          "height": 204
        },
        "id": "QZPADolA8vA3",
        "executionInfo": {
          "status": "ok",
          "timestamp": 1630094025625,
          "user_tz": -120,
          "elapsed": 26,
          "user": {
            "displayName": "Max Lucas Kienast",
            "photoUrl": "",
            "userId": "18136220580306165387"
          }
        },
        "outputId": "eef03613-18a8-430a-8de5-8f0af50298bc"
      },
      "source": [
        "# change yes/no in column y to 1/0\n",
        "df[\"y\"] = np.where(df[\"y\"]==\"yes\", 1, 0)\n",
        "df.head()"
      ],
      "execution_count": 3,
      "outputs": [
        {
          "output_type": "execute_result",
          "data": {
            "text/html": [
              "<div>\n",
              "<style scoped>\n",
              "    .dataframe tbody tr th:only-of-type {\n",
              "        vertical-align: middle;\n",
              "    }\n",
              "\n",
              "    .dataframe tbody tr th {\n",
              "        vertical-align: top;\n",
              "    }\n",
              "\n",
              "    .dataframe thead th {\n",
              "        text-align: right;\n",
              "    }\n",
              "</style>\n",
              "<table border=\"1\" class=\"dataframe\">\n",
              "  <thead>\n",
              "    <tr style=\"text-align: right;\">\n",
              "      <th></th>\n",
              "      <th>interest_rate</th>\n",
              "      <th>credit</th>\n",
              "      <th>march</th>\n",
              "      <th>may</th>\n",
              "      <th>previous</th>\n",
              "      <th>duration</th>\n",
              "      <th>y</th>\n",
              "    </tr>\n",
              "  </thead>\n",
              "  <tbody>\n",
              "    <tr>\n",
              "      <th>0</th>\n",
              "      <td>1.334</td>\n",
              "      <td>0.0</td>\n",
              "      <td>1.0</td>\n",
              "      <td>0.0</td>\n",
              "      <td>0.0</td>\n",
              "      <td>117.0</td>\n",
              "      <td>0</td>\n",
              "    </tr>\n",
              "    <tr>\n",
              "      <th>1</th>\n",
              "      <td>0.767</td>\n",
              "      <td>0.0</td>\n",
              "      <td>0.0</td>\n",
              "      <td>2.0</td>\n",
              "      <td>1.0</td>\n",
              "      <td>274.0</td>\n",
              "      <td>1</td>\n",
              "    </tr>\n",
              "    <tr>\n",
              "      <th>2</th>\n",
              "      <td>4.858</td>\n",
              "      <td>0.0</td>\n",
              "      <td>1.0</td>\n",
              "      <td>0.0</td>\n",
              "      <td>0.0</td>\n",
              "      <td>167.0</td>\n",
              "      <td>0</td>\n",
              "    </tr>\n",
              "    <tr>\n",
              "      <th>3</th>\n",
              "      <td>4.120</td>\n",
              "      <td>0.0</td>\n",
              "      <td>0.0</td>\n",
              "      <td>0.0</td>\n",
              "      <td>0.0</td>\n",
              "      <td>686.0</td>\n",
              "      <td>1</td>\n",
              "    </tr>\n",
              "    <tr>\n",
              "      <th>4</th>\n",
              "      <td>4.856</td>\n",
              "      <td>0.0</td>\n",
              "      <td>1.0</td>\n",
              "      <td>0.0</td>\n",
              "      <td>0.0</td>\n",
              "      <td>157.0</td>\n",
              "      <td>0</td>\n",
              "    </tr>\n",
              "  </tbody>\n",
              "</table>\n",
              "</div>"
            ],
            "text/plain": [
              "   interest_rate  credit  march  may  previous  duration  y\n",
              "0          1.334     0.0    1.0  0.0       0.0     117.0  0\n",
              "1          0.767     0.0    0.0  2.0       1.0     274.0  1\n",
              "2          4.858     0.0    1.0  0.0       0.0     167.0  0\n",
              "3          4.120     0.0    0.0  0.0       0.0     686.0  1\n",
              "4          4.856     0.0    1.0  0.0       0.0     157.0  0"
            ]
          },
          "metadata": {},
          "execution_count": 3
        }
      ]
    },
    {
      "cell_type": "markdown",
      "metadata": {
        "id": "-_bZ3uZT81xm"
      },
      "source": [
        "## Explore data"
      ]
    },
    {
      "cell_type": "code",
      "metadata": {
        "colab": {
          "base_uri": "https://localhost:8080/",
          "height": 297
        },
        "id": "99M9lazB8z5W",
        "executionInfo": {
          "status": "ok",
          "timestamp": 1630094025625,
          "user_tz": -120,
          "elapsed": 25,
          "user": {
            "displayName": "Max Lucas Kienast",
            "photoUrl": "",
            "userId": "18136220580306165387"
          }
        },
        "outputId": "85e0ee28-322f-4d0a-b8ee-69a9640409dc"
      },
      "source": [
        "# show summary descriptive statistics\n",
        "df.describe(include=\"all\")"
      ],
      "execution_count": 4,
      "outputs": [
        {
          "output_type": "execute_result",
          "data": {
            "text/html": [
              "<div>\n",
              "<style scoped>\n",
              "    .dataframe tbody tr th:only-of-type {\n",
              "        vertical-align: middle;\n",
              "    }\n",
              "\n",
              "    .dataframe tbody tr th {\n",
              "        vertical-align: top;\n",
              "    }\n",
              "\n",
              "    .dataframe thead th {\n",
              "        text-align: right;\n",
              "    }\n",
              "</style>\n",
              "<table border=\"1\" class=\"dataframe\">\n",
              "  <thead>\n",
              "    <tr style=\"text-align: right;\">\n",
              "      <th></th>\n",
              "      <th>interest_rate</th>\n",
              "      <th>credit</th>\n",
              "      <th>march</th>\n",
              "      <th>may</th>\n",
              "      <th>previous</th>\n",
              "      <th>duration</th>\n",
              "      <th>y</th>\n",
              "    </tr>\n",
              "  </thead>\n",
              "  <tbody>\n",
              "    <tr>\n",
              "      <th>count</th>\n",
              "      <td>518.000000</td>\n",
              "      <td>518.000000</td>\n",
              "      <td>518.000000</td>\n",
              "      <td>518.000000</td>\n",
              "      <td>518.000000</td>\n",
              "      <td>518.000000</td>\n",
              "      <td>518.000000</td>\n",
              "    </tr>\n",
              "    <tr>\n",
              "      <th>mean</th>\n",
              "      <td>2.835776</td>\n",
              "      <td>0.034749</td>\n",
              "      <td>0.266409</td>\n",
              "      <td>0.388031</td>\n",
              "      <td>0.127413</td>\n",
              "      <td>382.177606</td>\n",
              "      <td>0.500000</td>\n",
              "    </tr>\n",
              "    <tr>\n",
              "      <th>std</th>\n",
              "      <td>1.876903</td>\n",
              "      <td>0.183321</td>\n",
              "      <td>0.442508</td>\n",
              "      <td>0.814527</td>\n",
              "      <td>0.333758</td>\n",
              "      <td>344.295990</td>\n",
              "      <td>0.500483</td>\n",
              "    </tr>\n",
              "    <tr>\n",
              "      <th>min</th>\n",
              "      <td>0.635000</td>\n",
              "      <td>0.000000</td>\n",
              "      <td>0.000000</td>\n",
              "      <td>0.000000</td>\n",
              "      <td>0.000000</td>\n",
              "      <td>9.000000</td>\n",
              "      <td>0.000000</td>\n",
              "    </tr>\n",
              "    <tr>\n",
              "      <th>25%</th>\n",
              "      <td>1.042750</td>\n",
              "      <td>0.000000</td>\n",
              "      <td>0.000000</td>\n",
              "      <td>0.000000</td>\n",
              "      <td>0.000000</td>\n",
              "      <td>155.000000</td>\n",
              "      <td>0.000000</td>\n",
              "    </tr>\n",
              "    <tr>\n",
              "      <th>50%</th>\n",
              "      <td>1.466000</td>\n",
              "      <td>0.000000</td>\n",
              "      <td>0.000000</td>\n",
              "      <td>0.000000</td>\n",
              "      <td>0.000000</td>\n",
              "      <td>266.500000</td>\n",
              "      <td>0.500000</td>\n",
              "    </tr>\n",
              "    <tr>\n",
              "      <th>75%</th>\n",
              "      <td>4.956500</td>\n",
              "      <td>0.000000</td>\n",
              "      <td>1.000000</td>\n",
              "      <td>0.000000</td>\n",
              "      <td>0.000000</td>\n",
              "      <td>482.750000</td>\n",
              "      <td>1.000000</td>\n",
              "    </tr>\n",
              "    <tr>\n",
              "      <th>max</th>\n",
              "      <td>4.970000</td>\n",
              "      <td>1.000000</td>\n",
              "      <td>1.000000</td>\n",
              "      <td>5.000000</td>\n",
              "      <td>1.000000</td>\n",
              "      <td>2653.000000</td>\n",
              "      <td>1.000000</td>\n",
              "    </tr>\n",
              "  </tbody>\n",
              "</table>\n",
              "</div>"
            ],
            "text/plain": [
              "       interest_rate      credit  ...     duration           y\n",
              "count     518.000000  518.000000  ...   518.000000  518.000000\n",
              "mean        2.835776    0.034749  ...   382.177606    0.500000\n",
              "std         1.876903    0.183321  ...   344.295990    0.500483\n",
              "min         0.635000    0.000000  ...     9.000000    0.000000\n",
              "25%         1.042750    0.000000  ...   155.000000    0.000000\n",
              "50%         1.466000    0.000000  ...   266.500000    0.500000\n",
              "75%         4.956500    0.000000  ...   482.750000    1.000000\n",
              "max         4.970000    1.000000  ...  2653.000000    1.000000\n",
              "\n",
              "[8 rows x 7 columns]"
            ]
          },
          "metadata": {},
          "execution_count": 4
        }
      ]
    },
    {
      "cell_type": "markdown",
      "metadata": {
        "id": "5tn_A7IZ89Ee"
      },
      "source": [
        "## Declare features and targets"
      ]
    },
    {
      "cell_type": "code",
      "metadata": {
        "id": "L2jxBTdM84bl",
        "executionInfo": {
          "status": "ok",
          "timestamp": 1630094025626,
          "user_tz": -120,
          "elapsed": 24,
          "user": {
            "displayName": "Max Lucas Kienast",
            "photoUrl": "",
            "userId": "18136220580306165387"
          }
        }
      },
      "source": [
        "# create feature (X) and target (y) variables\n",
        "y = df['y']\n",
        "X1 = df[['interest_rate','credit','march','previous','duration']]"
      ],
      "execution_count": 5,
      "outputs": []
    },
    {
      "cell_type": "markdown",
      "metadata": {
        "id": "dM5H6bzp9MJA"
      },
      "source": [
        "## Train Multivariate Logistic Regression Model"
      ]
    },
    {
      "cell_type": "code",
      "metadata": {
        "colab": {
          "base_uri": "https://localhost:8080/"
        },
        "id": "0aidP4vl9F39",
        "executionInfo": {
          "status": "ok",
          "timestamp": 1630094025626,
          "user_tz": -120,
          "elapsed": 24,
          "user": {
            "displayName": "Max Lucas Kienast",
            "photoUrl": "",
            "userId": "18136220580306165387"
          }
        },
        "outputId": "948e5794-1ea3-4d04-9c12-b181d63b53e5"
      },
      "source": [
        "# build model\n",
        "X = sm.add_constant(X1) # y-intercept\n",
        "log_reg = sm.Logit(y, X)\n",
        "log_results = log_reg.fit()"
      ],
      "execution_count": 6,
      "outputs": [
        {
          "output_type": "stream",
          "text": [
            "Optimization terminated successfully.\n",
            "         Current function value: 0.336664\n",
            "         Iterations 7\n"
          ],
          "name": "stdout"
        }
      ]
    },
    {
      "cell_type": "code",
      "metadata": {
        "colab": {
          "base_uri": "https://localhost:8080/"
        },
        "id": "sAsOXqY79QPO",
        "executionInfo": {
          "status": "ok",
          "timestamp": 1630094025627,
          "user_tz": -120,
          "elapsed": 22,
          "user": {
            "displayName": "Max Lucas Kienast",
            "photoUrl": "",
            "userId": "18136220580306165387"
          }
        },
        "outputId": "aaf5a12f-4475-41f1-e3c1-eb830cc9e0cd"
      },
      "source": [
        "# show summary statistics\n",
        "print(log_results.summary())"
      ],
      "execution_count": 7,
      "outputs": [
        {
          "output_type": "stream",
          "text": [
            "                           Logit Regression Results                           \n",
            "==============================================================================\n",
            "Dep. Variable:                      y   No. Observations:                  518\n",
            "Model:                          Logit   Df Residuals:                      512\n",
            "Method:                           MLE   Df Model:                            5\n",
            "Date:                Fri, 27 Aug 2021   Pseudo R-squ.:                  0.5143\n",
            "Time:                        19:53:45   Log-Likelihood:                -174.39\n",
            "converged:                       True   LL-Null:                       -359.05\n",
            "Covariance Type:            nonrobust   LLR p-value:                 1.211e-77\n",
            "=================================================================================\n",
            "                    coef    std err          z      P>|z|      [0.025      0.975]\n",
            "---------------------------------------------------------------------------------\n",
            "const            -0.0211      0.311     -0.068      0.946      -0.631       0.589\n",
            "interest_rate    -0.8001      0.089     -8.943      0.000      -0.975      -0.625\n",
            "credit            2.3585      1.088      2.169      0.030       0.227       4.490\n",
            "march            -1.8322      0.330     -5.556      0.000      -2.478      -1.186\n",
            "previous          1.5363      0.501      3.067      0.002       0.554       2.518\n",
            "duration          0.0070      0.001      9.381      0.000       0.006       0.008\n",
            "=================================================================================\n"
          ],
          "name": "stdout"
        }
      ]
    },
    {
      "cell_type": "markdown",
      "metadata": {
        "id": "NusN-4p39_ZB"
      },
      "source": [
        "Interpretation:\n",
        "\n",
        "- given the all same circumstances (feature values) except the credit score (which ranges b/w 0 and 1 here), a client that has a credit score of 1 is 2.36 times as likely to pay back their loan as one with a credit score of 0.\n",
        "- vice versa for the other features"
      ]
    },
    {
      "cell_type": "markdown",
      "metadata": {
        "id": "e67nORvu_PfY"
      },
      "source": [
        "## Model Accuracy"
      ]
    },
    {
      "cell_type": "code",
      "metadata": {
        "colab": {
          "base_uri": "https://localhost:8080/"
        },
        "id": "969PkpM5LCp_",
        "executionInfo": {
          "status": "ok",
          "timestamp": 1630094025628,
          "user_tz": -120,
          "elapsed": 21,
          "user": {
            "displayName": "Max Lucas Kienast",
            "photoUrl": "",
            "userId": "18136220580306165387"
          }
        },
        "outputId": "b8dae40b-691c-4894-e8bb-da13e39d2bc2"
      },
      "source": [
        "# make predictions for training data\n",
        "log_results.predict()"
      ],
      "execution_count": 8,
      "outputs": [
        {
          "output_type": "execute_result",
          "data": {
            "text/plain": [
              "array([0.10845729, 0.94310101, 0.01016712, 0.8107996 , 0.00950534,\n",
              "       0.53401102, 0.03208113, 0.00360438, 0.71233264, 0.06744818,\n",
              "       0.9536981 , 0.49838996, 0.89280993, 0.1015164 , 0.07595256,\n",
              "       0.81903592, 0.87459125, 0.84855627, 0.3728643 , 0.76321316,\n",
              "       0.97293194, 0.87334213, 0.12982914, 0.09814958, 0.65435403,\n",
              "       0.08506009, 0.77401405, 0.76293622, 0.90314904, 0.04231132,\n",
              "       0.02297297, 0.12217763, 0.27155822, 0.71480891, 0.05771755,\n",
              "       0.01197368, 0.99318432, 0.06187083, 0.99998254, 0.54171261,\n",
              "       0.05858667, 0.84153321, 0.05871492, 0.00874369, 0.8683381 ,\n",
              "       0.54679839, 0.00476303, 0.15173607, 0.15689295, 0.8281327 ,\n",
              "       0.72220836, 0.05318745, 0.03268499, 0.05137519, 0.00752218,\n",
              "       0.80512363, 0.09452058, 0.80034267, 0.98080827, 0.83781628,\n",
              "       0.03688478, 0.1128039 , 0.98917666, 0.76387305, 0.16448677,\n",
              "       0.30797084, 0.04896691, 0.05903493, 0.99644849, 0.06952408,\n",
              "       0.02351395, 0.71587342, 0.13853176, 0.97026524, 0.87188713,\n",
              "       0.1269647 , 0.66877521, 0.04588603, 0.00964256, 0.02921325,\n",
              "       0.9155679 , 0.79411022, 0.88875576, 0.12832743, 0.19102515,\n",
              "       0.9762558 , 0.64038779, 0.86180071, 0.73877483, 0.034885  ,\n",
              "       0.07682137, 0.03214817, 0.71294905, 0.64065148, 0.94580568,\n",
              "       0.97030346, 0.96911429, 0.02709818, 0.97958012, 0.05719559,\n",
              "       0.99097786, 0.07172614, 0.99008808, 0.68872774, 0.28181655,\n",
              "       0.35892637, 0.19500745, 0.70006096, 0.73364305, 0.03453647,\n",
              "       0.99342782, 0.41118777, 0.15675492, 0.05361119, 0.93824499,\n",
              "       0.02306294, 0.04047438, 0.8967116 , 0.49926494, 0.14113849,\n",
              "       0.10150411, 0.00381598, 0.9232116 , 0.99973444, 0.33146351,\n",
              "       0.97624097, 0.93176507, 0.84283515, 0.69853219, 0.6692141 ,\n",
              "       0.05080516, 0.26149142, 0.81344812, 0.79393609, 0.81270307,\n",
              "       0.08472438, 0.2182757 , 0.73912971, 0.11101577, 0.01075132,\n",
              "       0.00765104, 0.00646306, 0.2324275 , 0.79495627, 0.22858346,\n",
              "       0.99847305, 0.23315577, 0.00762257, 0.99992966, 0.54045421,\n",
              "       0.70604781, 0.45009302, 0.9569891 , 0.87001262, 0.04875912,\n",
              "       0.8790423 , 0.58905454, 0.98064983, 0.95279101, 0.98982053,\n",
              "       0.95243832, 0.83764792, 0.86856128, 0.10361022, 0.61757249,\n",
              "       0.20746795, 0.05811622, 0.50373578, 0.09182435, 0.22310379,\n",
              "       0.59724916, 0.96428888, 0.94427104, 0.04692667, 0.05114173,\n",
              "       0.98224135, 0.65089223, 0.85493407, 0.90803141, 0.99266004,\n",
              "       0.16902045, 0.12630661, 0.1111738 , 0.83672672, 0.04420428,\n",
              "       0.07235171, 0.00358233, 0.03522034, 0.99981181, 0.62009977,\n",
              "       0.67909751, 0.42513488, 0.09354747, 0.68737827, 0.89238236,\n",
              "       0.0196011 , 0.90814932, 0.03122812, 0.90125072, 0.69895441,\n",
              "       0.04951739, 0.57518601, 0.95873541, 0.98961629, 0.0424087 ,\n",
              "       0.10594319, 0.95788865, 0.70208325, 0.02118334, 0.98904129,\n",
              "       0.67139984, 0.0191092 , 0.99526724, 0.74221748, 0.03167638,\n",
              "       0.69690622, 0.99706035, 0.79737279, 0.56967881, 0.00455828,\n",
              "       0.9795834 , 0.9554847 , 0.05221661, 0.00956348, 0.90254328,\n",
              "       0.0137693 , 0.62038288, 0.91355601, 0.99845992, 0.97287812,\n",
              "       0.30241515, 0.0138641 , 0.19749045, 0.88919549, 0.59544745,\n",
              "       0.99930435, 0.73076266, 0.19105001, 0.36605667, 0.86069845,\n",
              "       0.09692946, 0.99932756, 0.00626683, 0.08331404, 0.99818221,\n",
              "       0.9986249 , 0.81771725, 0.07386881, 0.88958905, 0.99578985,\n",
              "       0.11608368, 0.95655485, 0.08430233, 0.02971861, 0.05400715,\n",
              "       0.89477578, 0.93136416, 0.08930885, 0.8582917 , 0.22454816,\n",
              "       0.88469323, 0.97966113, 0.99728052, 0.09612991, 0.49700382,\n",
              "       0.04516354, 0.37278261, 0.1280015 , 0.43530688, 0.21514021,\n",
              "       0.91940245, 0.7973535 , 0.45718885, 0.03746877, 0.9940896 ,\n",
              "       0.80726361, 0.95436925, 0.13357712, 0.02105605, 0.17796849,\n",
              "       0.78849432, 0.12785017, 0.60329914, 0.99999807, 0.17812328,\n",
              "       0.93547086, 0.03034996, 0.94511284, 0.18635461, 0.67237404,\n",
              "       0.052402  , 0.73911723, 0.07130109, 0.41190384, 0.80270876,\n",
              "       0.09342162, 0.84686296, 0.00531244, 0.02971861, 0.96813641,\n",
              "       0.02777013, 0.25974846, 0.06227275, 0.09924503, 0.0688242 ,\n",
              "       0.4950392 , 0.01426102, 0.9823858 , 0.71983736, 0.84721029,\n",
              "       0.05297672, 0.90178121, 0.05014087, 0.92719269, 0.93302228,\n",
              "       0.55726463, 0.94694222, 0.78114049, 0.96442946, 0.07374848,\n",
              "       0.89851085, 0.03779886, 0.03894376, 0.03839674, 0.02976479,\n",
              "       0.99212719, 0.34771216, 0.57739973, 0.99731371, 0.34974547,\n",
              "       0.99746214, 0.93071095, 0.99445211, 0.9006349 , 0.00470013,\n",
              "       0.62829969, 0.9774632 , 0.59766734, 0.9638084 , 0.98410414,\n",
              "       0.60160942, 0.08281148, 0.99905398, 0.03407549, 0.02567578,\n",
              "       0.91152677, 0.74693907, 0.99999948, 0.92530389, 0.04703415,\n",
              "       0.87283592, 0.76045896, 0.00478849, 0.91582122, 0.96702349,\n",
              "       0.06367885, 0.97991553, 0.90510931, 0.04062675, 0.83259321,\n",
              "       0.06547119, 0.03964104, 0.55683466, 0.13686789, 0.4091118 ,\n",
              "       0.95385676, 0.01763322, 0.94523516, 0.22121021, 0.05144134,\n",
              "       0.99972794, 0.89833954, 0.69712062, 0.90926163, 0.87638699,\n",
              "       0.05047069, 0.08052484, 0.03791543, 0.99336269, 0.92340631,\n",
              "       0.33323894, 0.73277005, 0.06186771, 0.64897282, 0.7147469 ,\n",
              "       0.10990998, 0.76717976, 0.41465558, 0.05299079, 0.89165789,\n",
              "       0.05127197, 0.07757767, 0.97809761, 0.69194988, 0.9968352 ,\n",
              "       0.22232182, 0.25544838, 0.01548356, 0.20501633, 0.51869196,\n",
              "       0.96427685, 0.50284133, 0.04162318, 0.98059968, 0.0057021 ,\n",
              "       0.00962961, 0.19324157, 0.99976476, 0.36858725, 0.90513985,\n",
              "       0.38973006, 0.9384829 , 0.66603343, 0.30371568, 0.17423042,\n",
              "       0.68122146, 0.90380599, 0.00429646, 0.60157087, 0.10064067,\n",
              "       0.98900642, 0.75901555, 0.20985463, 0.08226488, 0.85927929,\n",
              "       0.1805039 , 0.89197333, 0.89921607, 0.82337179, 0.79784659,\n",
              "       0.70353644, 0.43641134, 0.97449129, 0.24934982, 0.02063009,\n",
              "       0.01693779, 0.00817379, 0.34454728, 0.11879664, 0.99358872,\n",
              "       0.03788626, 0.05002411, 0.09001271, 0.00475167, 0.99473319,\n",
              "       0.19186746, 0.9373616 , 0.06687916, 0.7791679 , 0.03891383,\n",
              "       0.62082467, 0.96693465, 0.59608925, 0.94732573, 0.03901421,\n",
              "       0.57691499, 0.9996285 , 0.43655525, 0.49298634, 0.51934774,\n",
              "       0.05487375, 0.67042933, 0.84706994, 0.09692946, 0.05541932,\n",
              "       0.04542981, 0.03617832, 0.99967478, 0.65579873, 0.57605514,\n",
              "       0.98252595, 0.3380936 , 0.17812328, 0.9992894 , 0.56582828,\n",
              "       0.64780606, 0.50242475, 0.46117272, 0.08024711, 0.68583224,\n",
              "       0.00455465, 0.80954644, 0.12808638, 0.02414838, 0.9989301 ,\n",
              "       0.98593048, 0.81755501, 0.71566427, 0.99355042, 0.16733421,\n",
              "       0.5337695 , 0.72865894, 0.19241272, 0.25196341, 0.02976479,\n",
              "       0.11537028, 0.11476579, 0.99013883, 0.35478294, 0.40446687,\n",
              "       0.98312892, 0.05871789, 0.52991345, 0.48892826, 0.89153146,\n",
              "       0.37152155, 0.81814623, 0.01946784, 0.90885605, 0.94017649,\n",
              "       0.59790161, 0.34049548, 0.21403322, 0.18223193, 0.99839664,\n",
              "       0.78470172, 0.98376815, 0.04716685])"
            ]
          },
          "metadata": {},
          "execution_count": 8
        }
      ]
    },
    {
      "cell_type": "markdown",
      "metadata": {
        "id": "F_PUjj77LT0z"
      },
      "source": [
        "These values between 0 and 1 represent the probability of an observation being classified into class 1. Hence, if the probability is greater than or equal to 0.5, it will be rounded to 1, and otherwise to 0."
      ]
    },
    {
      "cell_type": "code",
      "metadata": {
        "colab": {
          "base_uri": "https://localhost:8080/"
        },
        "id": "UcPxrPbp9r7g",
        "executionInfo": {
          "status": "ok",
          "timestamp": 1630094025628,
          "user_tz": -120,
          "elapsed": 20,
          "user": {
            "displayName": "Max Lucas Kienast",
            "photoUrl": "",
            "userId": "18136220580306165387"
          }
        },
        "outputId": "3fae3e50-194f-463d-de0d-36b3a40ff7df"
      },
      "source": [
        "# show confusion matrix\n",
        "log_results.pred_table()"
      ],
      "execution_count": 9,
      "outputs": [
        {
          "output_type": "execute_result",
          "data": {
            "text/plain": [
              "array([[218.,  41.],\n",
              "       [ 30., 229.]])"
            ]
          },
          "metadata": {},
          "execution_count": 9
        }
      ]
    },
    {
      "cell_type": "code",
      "metadata": {
        "colab": {
          "base_uri": "https://localhost:8080/",
          "height": 111
        },
        "id": "E4Ia7jiu_b7O",
        "executionInfo": {
          "status": "ok",
          "timestamp": 1630094025629,
          "user_tz": -120,
          "elapsed": 16,
          "user": {
            "displayName": "Max Lucas Kienast",
            "photoUrl": "",
            "userId": "18136220580306165387"
          }
        },
        "outputId": "5c304bb4-ef53-455e-be59-815c689f40b7"
      },
      "source": [
        "# confusion matrix formatted as df\n",
        "cm_df = pd.DataFrame(log_results.pred_table())\n",
        "cm_df.columns = [\"Predicted 0\", \"Predicted 1\"]\n",
        "cm_df = cm_df.rename(index={0:\"Actual 0\", 1:\"Actual 1\"})\n",
        "cm_df"
      ],
      "execution_count": 10,
      "outputs": [
        {
          "output_type": "execute_result",
          "data": {
            "text/html": [
              "<div>\n",
              "<style scoped>\n",
              "    .dataframe tbody tr th:only-of-type {\n",
              "        vertical-align: middle;\n",
              "    }\n",
              "\n",
              "    .dataframe tbody tr th {\n",
              "        vertical-align: top;\n",
              "    }\n",
              "\n",
              "    .dataframe thead th {\n",
              "        text-align: right;\n",
              "    }\n",
              "</style>\n",
              "<table border=\"1\" class=\"dataframe\">\n",
              "  <thead>\n",
              "    <tr style=\"text-align: right;\">\n",
              "      <th></th>\n",
              "      <th>Predicted 0</th>\n",
              "      <th>Predicted 1</th>\n",
              "    </tr>\n",
              "  </thead>\n",
              "  <tbody>\n",
              "    <tr>\n",
              "      <th>Actual 0</th>\n",
              "      <td>218.0</td>\n",
              "      <td>41.0</td>\n",
              "    </tr>\n",
              "    <tr>\n",
              "      <th>Actual 1</th>\n",
              "      <td>30.0</td>\n",
              "      <td>229.0</td>\n",
              "    </tr>\n",
              "  </tbody>\n",
              "</table>\n",
              "</div>"
            ],
            "text/plain": [
              "          Predicted 0  Predicted 1\n",
              "Actual 0        218.0         41.0\n",
              "Actual 1         30.0        229.0"
            ]
          },
          "metadata": {},
          "execution_count": 10
        }
      ]
    },
    {
      "cell_type": "markdown",
      "metadata": {
        "id": "7ci5iLlj_3YR"
      },
      "source": [
        "- For 218 observations, the model predicted 0 when the true value was 0.\n",
        "- For 30 observations, the model predicted 0 when the true value was 1.\n",
        "- vice versa for when the model predicted 1"
      ]
    },
    {
      "cell_type": "code",
      "metadata": {
        "colab": {
          "base_uri": "https://localhost:8080/"
        },
        "id": "ml5CP8-w_0sp",
        "executionInfo": {
          "status": "ok",
          "timestamp": 1630094025630,
          "user_tz": -120,
          "elapsed": 16,
          "user": {
            "displayName": "Max Lucas Kienast",
            "photoUrl": "",
            "userId": "18136220580306165387"
          }
        },
        "outputId": "96fa224d-fa15-426d-8a28-7fc4f3777d5d"
      },
      "source": [
        "# calculate actual accuracy\n",
        "cm = np.array(cm_df)\n",
        "accuracy_train = (cm[0,0] + cm[1,1])/cm.sum()\n",
        "accuracy_train"
      ],
      "execution_count": 11,
      "outputs": [
        {
          "output_type": "execute_result",
          "data": {
            "text/plain": [
              "0.862934362934363"
            ]
          },
          "metadata": {},
          "execution_count": 11
        }
      ]
    },
    {
      "cell_type": "markdown",
      "metadata": {
        "id": "iN2V_MQKAofM"
      },
      "source": [
        "The model shows 86% accuracy on the training data."
      ]
    },
    {
      "cell_type": "markdown",
      "metadata": {
        "id": "WmPkoWWJAr33"
      },
      "source": [
        "## Test Model"
      ]
    },
    {
      "cell_type": "code",
      "metadata": {
        "colab": {
          "base_uri": "https://localhost:8080/",
          "height": 204
        },
        "id": "dJY4XV61AnlF",
        "executionInfo": {
          "status": "ok",
          "timestamp": 1630094026124,
          "user_tz": -120,
          "elapsed": 508,
          "user": {
            "displayName": "Max Lucas Kienast",
            "photoUrl": "",
            "userId": "18136220580306165387"
          }
        },
        "outputId": "c121a2ae-7b97-492f-aed5-6edf5631acdc"
      },
      "source": [
        "# load test bank csv data and store in df\n",
        "url = \"https://raw.githubusercontent.com/lucaskienast/Classification-Models/main/1)%20Binary%20Classification/Bank_data_testing.csv\"\n",
        "df_test = pd.read_csv(url)\n",
        "df_test = df_test.drop([\"Unnamed: 0\"], axis=1)\n",
        "df_test[\"y\"] = np.where(df_test[\"y\"]==\"yes\", 1, 0)\n",
        "df_test.head()"
      ],
      "execution_count": 12,
      "outputs": [
        {
          "output_type": "execute_result",
          "data": {
            "text/html": [
              "<div>\n",
              "<style scoped>\n",
              "    .dataframe tbody tr th:only-of-type {\n",
              "        vertical-align: middle;\n",
              "    }\n",
              "\n",
              "    .dataframe tbody tr th {\n",
              "        vertical-align: top;\n",
              "    }\n",
              "\n",
              "    .dataframe thead th {\n",
              "        text-align: right;\n",
              "    }\n",
              "</style>\n",
              "<table border=\"1\" class=\"dataframe\">\n",
              "  <thead>\n",
              "    <tr style=\"text-align: right;\">\n",
              "      <th></th>\n",
              "      <th>interest_rate</th>\n",
              "      <th>credit</th>\n",
              "      <th>march</th>\n",
              "      <th>may</th>\n",
              "      <th>previous</th>\n",
              "      <th>duration</th>\n",
              "      <th>y</th>\n",
              "    </tr>\n",
              "  </thead>\n",
              "  <tbody>\n",
              "    <tr>\n",
              "      <th>0</th>\n",
              "      <td>1.313</td>\n",
              "      <td>0.0</td>\n",
              "      <td>1.0</td>\n",
              "      <td>0.0</td>\n",
              "      <td>0.0</td>\n",
              "      <td>487.0</td>\n",
              "      <td>0</td>\n",
              "    </tr>\n",
              "    <tr>\n",
              "      <th>1</th>\n",
              "      <td>4.961</td>\n",
              "      <td>0.0</td>\n",
              "      <td>0.0</td>\n",
              "      <td>0.0</td>\n",
              "      <td>0.0</td>\n",
              "      <td>132.0</td>\n",
              "      <td>0</td>\n",
              "    </tr>\n",
              "    <tr>\n",
              "      <th>2</th>\n",
              "      <td>4.856</td>\n",
              "      <td>0.0</td>\n",
              "      <td>1.0</td>\n",
              "      <td>0.0</td>\n",
              "      <td>0.0</td>\n",
              "      <td>92.0</td>\n",
              "      <td>0</td>\n",
              "    </tr>\n",
              "    <tr>\n",
              "      <th>3</th>\n",
              "      <td>4.120</td>\n",
              "      <td>0.0</td>\n",
              "      <td>0.0</td>\n",
              "      <td>0.0</td>\n",
              "      <td>0.0</td>\n",
              "      <td>1468.0</td>\n",
              "      <td>1</td>\n",
              "    </tr>\n",
              "    <tr>\n",
              "      <th>4</th>\n",
              "      <td>4.963</td>\n",
              "      <td>0.0</td>\n",
              "      <td>0.0</td>\n",
              "      <td>0.0</td>\n",
              "      <td>0.0</td>\n",
              "      <td>36.0</td>\n",
              "      <td>0</td>\n",
              "    </tr>\n",
              "  </tbody>\n",
              "</table>\n",
              "</div>"
            ],
            "text/plain": [
              "   interest_rate  credit  march  may  previous  duration  y\n",
              "0          1.313     0.0    1.0  0.0       0.0     487.0  0\n",
              "1          4.961     0.0    0.0  0.0       0.0     132.0  0\n",
              "2          4.856     0.0    1.0  0.0       0.0      92.0  0\n",
              "3          4.120     0.0    0.0  0.0       0.0    1468.0  1\n",
              "4          4.963     0.0    0.0  0.0       0.0      36.0  0"
            ]
          },
          "metadata": {},
          "execution_count": 12
        }
      ]
    },
    {
      "cell_type": "code",
      "metadata": {
        "id": "tpgJvD_eBJAI",
        "executionInfo": {
          "status": "ok",
          "timestamp": 1630094026125,
          "user_tz": -120,
          "elapsed": 8,
          "user": {
            "displayName": "Max Lucas Kienast",
            "photoUrl": "",
            "userId": "18136220580306165387"
          }
        }
      },
      "source": [
        "# declare features and targets of test dataset\n",
        "y_test = df_test['y']\n",
        "X1_test = df_test[['interest_rate','credit','march','previous','duration']]\n",
        "X_test = sm.add_constant(X1_test) # y-intercept"
      ],
      "execution_count": 13,
      "outputs": []
    },
    {
      "cell_type": "code",
      "metadata": {
        "id": "tVn6-qALBlUU",
        "executionInfo": {
          "status": "ok",
          "timestamp": 1630094026125,
          "user_tz": -120,
          "elapsed": 7,
          "user": {
            "displayName": "Max Lucas Kienast",
            "photoUrl": "",
            "userId": "18136220580306165387"
          }
        }
      },
      "source": [
        "def confusion_matrix(data,actual_values,model):\n",
        "        # Confusion matrix \n",
        "        \n",
        "        # Parameters\n",
        "        # ----------\n",
        "        # data: data frame or array\n",
        "            # data is a data frame formatted in the same way as your input data (without the actual values)\n",
        "            # e.g. const, var1, var2, etc. Order is very important!\n",
        "        # actual_values: data frame or array\n",
        "            # These are the actual values from the test_data\n",
        "            # In the case of a logistic regression, it should be a single column with 0s and 1s\n",
        "            \n",
        "        # model: a LogitResults object\n",
        "            # this is the variable where you have the fitted model \n",
        "            # e.g. results_log in this course\n",
        "        # ----------\n",
        "        \n",
        "        #Predict the values using the Logit model\n",
        "        pred_values = model.predict(data)\n",
        "        # Specify the bins \n",
        "        bins=np.array([0,0.5,1])\n",
        "        # Create a histogram, where if values are between 0 and 0.5 tell will be considered 0\n",
        "        # if they are between 0.5 and 1, they will be considered 1\n",
        "        cm = np.histogram2d(actual_values, pred_values, bins=bins)[0]\n",
        "        # Calculate the accuracy\n",
        "        accuracy = (cm[0,0]+cm[1,1])/cm.sum()\n",
        "        # Return the confusion matrix and \n",
        "        return cm, accuracy"
      ],
      "execution_count": 14,
      "outputs": []
    },
    {
      "cell_type": "code",
      "metadata": {
        "colab": {
          "base_uri": "https://localhost:8080/"
        },
        "id": "nMuXnMUECMA4",
        "executionInfo": {
          "status": "ok",
          "timestamp": 1630094026127,
          "user_tz": -120,
          "elapsed": 9,
          "user": {
            "displayName": "Max Lucas Kienast",
            "photoUrl": "",
            "userId": "18136220580306165387"
          }
        },
        "outputId": "33787c63-123c-40e0-b777-c9c61f461439"
      },
      "source": [
        "confusion_matrix(X_test, y_test, log_results)"
      ],
      "execution_count": 15,
      "outputs": [
        {
          "output_type": "execute_result",
          "data": {
            "text/plain": [
              "(array([[93., 18.],\n",
              "        [13., 98.]]), 0.8603603603603603)"
            ]
          },
          "metadata": {},
          "execution_count": 15
        }
      ]
    },
    {
      "cell_type": "markdown",
      "metadata": {
        "id": "-lfXeX-sCXRi"
      },
      "source": [
        "The model performs slightly worse on the test data, which is expected."
      ]
    },
    {
      "cell_type": "code",
      "metadata": {
        "id": "8aRKLsoWCRj_",
        "executionInfo": {
          "status": "ok",
          "timestamp": 1630094026127,
          "user_tz": -120,
          "elapsed": 7,
          "user": {
            "displayName": "Max Lucas Kienast",
            "photoUrl": "",
            "userId": "18136220580306165387"
          }
        }
      },
      "source": [
        ""
      ],
      "execution_count": 15,
      "outputs": []
    }
  ]
}
