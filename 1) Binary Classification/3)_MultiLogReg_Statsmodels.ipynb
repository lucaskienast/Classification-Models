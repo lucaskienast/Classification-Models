{
  "nbformat": 4,
  "nbformat_minor": 0,
  "metadata": {
    "colab": {
      "name": "3) MultiLogReg Statsmodels.ipynb",
      "provenance": [],
      "collapsed_sections": []
    },
    "kernelspec": {
      "name": "python3",
      "display_name": "Python 3"
    },
    "language_info": {
      "name": "python"
    }
  },
  "cells": [
    {
      "cell_type": "markdown",
      "metadata": {
        "id": "UrpQ-d6N8h4V"
      },
      "source": [
        "# Binary Classification: Multivariate Logistic Regression with Statsmodels\n",
        "\n",
        "Predict whether a bank client is likely to default on their loan or not.\n",
        "\n",
        "Note that interest rate indicates the 3-month interest rate between banks and duration indicates the time since the last contact was made with a given consumer. The previous variable shows whether the last marketing campaign was successful with this customer. The march and may are Boolean variables that account for when the call was made to the specific customer and credit shows if the customer has enough credit to avoid defaulting."
      ]
    },
    {
      "cell_type": "markdown",
      "metadata": {
        "id": "Fw9-UCuX8mXB"
      },
      "source": [
        "## Import libraries"
      ]
    },
    {
      "cell_type": "code",
      "metadata": {
        "colab": {
          "base_uri": "https://localhost:8080/"
        },
        "id": "VNfB1Yx9380O",
        "outputId": "04193b99-9622-4ddc-8dc1-74c4d52dbf11"
      },
      "source": [
        "import numpy as np\n",
        "import pandas as pd\n",
        "import matplotlib.pyplot as plt\n",
        "import statsmodels.api as sm\n",
        "from scipy import stats"
      ],
      "execution_count": 1,
      "outputs": [
        {
          "output_type": "stream",
          "text": [
            "/usr/local/lib/python3.7/dist-packages/statsmodels/tools/_testing.py:19: FutureWarning: pandas.util.testing is deprecated. Use the functions in the public API at pandas.testing instead.\n",
            "  import pandas.util.testing as tm\n"
          ],
          "name": "stderr"
        }
      ]
    },
    {
      "cell_type": "markdown",
      "metadata": {
        "id": "fY1SF22i8r5n"
      },
      "source": [
        "## Load data"
      ]
    },
    {
      "cell_type": "code",
      "metadata": {
        "colab": {
          "base_uri": "https://localhost:8080/",
          "height": 204
        },
        "id": "UoSSGzLR8qSg",
        "outputId": "5feaf9a8-f67d-4789-f9f4-4664df3f52bc"
      },
      "source": [
        "# load bank csv data and store in df\n",
        "url = \"https://raw.githubusercontent.com/lucaskienast/Classification-Models/main/1)%20Binary%20Classification/Bank_data.csv\"\n",
        "df = pd.read_csv(url)\n",
        "df = df.drop([\"Unnamed: 0\"], axis=1)\n",
        "df.head()"
      ],
      "execution_count": 2,
      "outputs": [
        {
          "output_type": "execute_result",
          "data": {
            "text/html": [
              "<div>\n",
              "<style scoped>\n",
              "    .dataframe tbody tr th:only-of-type {\n",
              "        vertical-align: middle;\n",
              "    }\n",
              "\n",
              "    .dataframe tbody tr th {\n",
              "        vertical-align: top;\n",
              "    }\n",
              "\n",
              "    .dataframe thead th {\n",
              "        text-align: right;\n",
              "    }\n",
              "</style>\n",
              "<table border=\"1\" class=\"dataframe\">\n",
              "  <thead>\n",
              "    <tr style=\"text-align: right;\">\n",
              "      <th></th>\n",
              "      <th>interest_rate</th>\n",
              "      <th>credit</th>\n",
              "      <th>march</th>\n",
              "      <th>may</th>\n",
              "      <th>previous</th>\n",
              "      <th>duration</th>\n",
              "      <th>y</th>\n",
              "    </tr>\n",
              "  </thead>\n",
              "  <tbody>\n",
              "    <tr>\n",
              "      <th>0</th>\n",
              "      <td>1.334</td>\n",
              "      <td>0.0</td>\n",
              "      <td>1.0</td>\n",
              "      <td>0.0</td>\n",
              "      <td>0.0</td>\n",
              "      <td>117.0</td>\n",
              "      <td>no</td>\n",
              "    </tr>\n",
              "    <tr>\n",
              "      <th>1</th>\n",
              "      <td>0.767</td>\n",
              "      <td>0.0</td>\n",
              "      <td>0.0</td>\n",
              "      <td>2.0</td>\n",
              "      <td>1.0</td>\n",
              "      <td>274.0</td>\n",
              "      <td>yes</td>\n",
              "    </tr>\n",
              "    <tr>\n",
              "      <th>2</th>\n",
              "      <td>4.858</td>\n",
              "      <td>0.0</td>\n",
              "      <td>1.0</td>\n",
              "      <td>0.0</td>\n",
              "      <td>0.0</td>\n",
              "      <td>167.0</td>\n",
              "      <td>no</td>\n",
              "    </tr>\n",
              "    <tr>\n",
              "      <th>3</th>\n",
              "      <td>4.120</td>\n",
              "      <td>0.0</td>\n",
              "      <td>0.0</td>\n",
              "      <td>0.0</td>\n",
              "      <td>0.0</td>\n",
              "      <td>686.0</td>\n",
              "      <td>yes</td>\n",
              "    </tr>\n",
              "    <tr>\n",
              "      <th>4</th>\n",
              "      <td>4.856</td>\n",
              "      <td>0.0</td>\n",
              "      <td>1.0</td>\n",
              "      <td>0.0</td>\n",
              "      <td>0.0</td>\n",
              "      <td>157.0</td>\n",
              "      <td>no</td>\n",
              "    </tr>\n",
              "  </tbody>\n",
              "</table>\n",
              "</div>"
            ],
            "text/plain": [
              "   interest_rate  credit  march  may  previous  duration    y\n",
              "0          1.334     0.0    1.0  0.0       0.0     117.0   no\n",
              "1          0.767     0.0    0.0  2.0       1.0     274.0  yes\n",
              "2          4.858     0.0    1.0  0.0       0.0     167.0   no\n",
              "3          4.120     0.0    0.0  0.0       0.0     686.0  yes\n",
              "4          4.856     0.0    1.0  0.0       0.0     157.0   no"
            ]
          },
          "metadata": {},
          "execution_count": 2
        }
      ]
    },
    {
      "cell_type": "markdown",
      "metadata": {
        "id": "vCuIzIRu8yDA"
      },
      "source": [
        "## Map target: yes/no -> 1/0"
      ]
    },
    {
      "cell_type": "code",
      "metadata": {
        "colab": {
          "base_uri": "https://localhost:8080/",
          "height": 204
        },
        "id": "QZPADolA8vA3",
        "outputId": "396a4662-6f52-4d85-9d2e-e2b6aea131ce"
      },
      "source": [
        "# change yes/no in column y to 1/0\n",
        "df[\"y\"] = np.where(df[\"y\"]==\"yes\", 1, 0)\n",
        "df.head()"
      ],
      "execution_count": 3,
      "outputs": [
        {
          "output_type": "execute_result",
          "data": {
            "text/html": [
              "<div>\n",
              "<style scoped>\n",
              "    .dataframe tbody tr th:only-of-type {\n",
              "        vertical-align: middle;\n",
              "    }\n",
              "\n",
              "    .dataframe tbody tr th {\n",
              "        vertical-align: top;\n",
              "    }\n",
              "\n",
              "    .dataframe thead th {\n",
              "        text-align: right;\n",
              "    }\n",
              "</style>\n",
              "<table border=\"1\" class=\"dataframe\">\n",
              "  <thead>\n",
              "    <tr style=\"text-align: right;\">\n",
              "      <th></th>\n",
              "      <th>interest_rate</th>\n",
              "      <th>credit</th>\n",
              "      <th>march</th>\n",
              "      <th>may</th>\n",
              "      <th>previous</th>\n",
              "      <th>duration</th>\n",
              "      <th>y</th>\n",
              "    </tr>\n",
              "  </thead>\n",
              "  <tbody>\n",
              "    <tr>\n",
              "      <th>0</th>\n",
              "      <td>1.334</td>\n",
              "      <td>0.0</td>\n",
              "      <td>1.0</td>\n",
              "      <td>0.0</td>\n",
              "      <td>0.0</td>\n",
              "      <td>117.0</td>\n",
              "      <td>0</td>\n",
              "    </tr>\n",
              "    <tr>\n",
              "      <th>1</th>\n",
              "      <td>0.767</td>\n",
              "      <td>0.0</td>\n",
              "      <td>0.0</td>\n",
              "      <td>2.0</td>\n",
              "      <td>1.0</td>\n",
              "      <td>274.0</td>\n",
              "      <td>1</td>\n",
              "    </tr>\n",
              "    <tr>\n",
              "      <th>2</th>\n",
              "      <td>4.858</td>\n",
              "      <td>0.0</td>\n",
              "      <td>1.0</td>\n",
              "      <td>0.0</td>\n",
              "      <td>0.0</td>\n",
              "      <td>167.0</td>\n",
              "      <td>0</td>\n",
              "    </tr>\n",
              "    <tr>\n",
              "      <th>3</th>\n",
              "      <td>4.120</td>\n",
              "      <td>0.0</td>\n",
              "      <td>0.0</td>\n",
              "      <td>0.0</td>\n",
              "      <td>0.0</td>\n",
              "      <td>686.0</td>\n",
              "      <td>1</td>\n",
              "    </tr>\n",
              "    <tr>\n",
              "      <th>4</th>\n",
              "      <td>4.856</td>\n",
              "      <td>0.0</td>\n",
              "      <td>1.0</td>\n",
              "      <td>0.0</td>\n",
              "      <td>0.0</td>\n",
              "      <td>157.0</td>\n",
              "      <td>0</td>\n",
              "    </tr>\n",
              "  </tbody>\n",
              "</table>\n",
              "</div>"
            ],
            "text/plain": [
              "   interest_rate  credit  march  may  previous  duration  y\n",
              "0          1.334     0.0    1.0  0.0       0.0     117.0  0\n",
              "1          0.767     0.0    0.0  2.0       1.0     274.0  1\n",
              "2          4.858     0.0    1.0  0.0       0.0     167.0  0\n",
              "3          4.120     0.0    0.0  0.0       0.0     686.0  1\n",
              "4          4.856     0.0    1.0  0.0       0.0     157.0  0"
            ]
          },
          "metadata": {},
          "execution_count": 3
        }
      ]
    },
    {
      "cell_type": "markdown",
      "metadata": {
        "id": "-_bZ3uZT81xm"
      },
      "source": [
        "## Explore data"
      ]
    },
    {
      "cell_type": "code",
      "metadata": {
        "colab": {
          "base_uri": "https://localhost:8080/",
          "height": 297
        },
        "id": "99M9lazB8z5W",
        "outputId": "ad9cbaf8-546d-4b59-c250-7d2ed5f2b857"
      },
      "source": [
        "# show summary descriptive statistics\n",
        "df.describe(include=\"all\")"
      ],
      "execution_count": 4,
      "outputs": [
        {
          "output_type": "execute_result",
          "data": {
            "text/html": [
              "<div>\n",
              "<style scoped>\n",
              "    .dataframe tbody tr th:only-of-type {\n",
              "        vertical-align: middle;\n",
              "    }\n",
              "\n",
              "    .dataframe tbody tr th {\n",
              "        vertical-align: top;\n",
              "    }\n",
              "\n",
              "    .dataframe thead th {\n",
              "        text-align: right;\n",
              "    }\n",
              "</style>\n",
              "<table border=\"1\" class=\"dataframe\">\n",
              "  <thead>\n",
              "    <tr style=\"text-align: right;\">\n",
              "      <th></th>\n",
              "      <th>interest_rate</th>\n",
              "      <th>credit</th>\n",
              "      <th>march</th>\n",
              "      <th>may</th>\n",
              "      <th>previous</th>\n",
              "      <th>duration</th>\n",
              "      <th>y</th>\n",
              "    </tr>\n",
              "  </thead>\n",
              "  <tbody>\n",
              "    <tr>\n",
              "      <th>count</th>\n",
              "      <td>518.000000</td>\n",
              "      <td>518.000000</td>\n",
              "      <td>518.000000</td>\n",
              "      <td>518.000000</td>\n",
              "      <td>518.000000</td>\n",
              "      <td>518.000000</td>\n",
              "      <td>518.000000</td>\n",
              "    </tr>\n",
              "    <tr>\n",
              "      <th>mean</th>\n",
              "      <td>2.835776</td>\n",
              "      <td>0.034749</td>\n",
              "      <td>0.266409</td>\n",
              "      <td>0.388031</td>\n",
              "      <td>0.127413</td>\n",
              "      <td>382.177606</td>\n",
              "      <td>0.500000</td>\n",
              "    </tr>\n",
              "    <tr>\n",
              "      <th>std</th>\n",
              "      <td>1.876903</td>\n",
              "      <td>0.183321</td>\n",
              "      <td>0.442508</td>\n",
              "      <td>0.814527</td>\n",
              "      <td>0.333758</td>\n",
              "      <td>344.295990</td>\n",
              "      <td>0.500483</td>\n",
              "    </tr>\n",
              "    <tr>\n",
              "      <th>min</th>\n",
              "      <td>0.635000</td>\n",
              "      <td>0.000000</td>\n",
              "      <td>0.000000</td>\n",
              "      <td>0.000000</td>\n",
              "      <td>0.000000</td>\n",
              "      <td>9.000000</td>\n",
              "      <td>0.000000</td>\n",
              "    </tr>\n",
              "    <tr>\n",
              "      <th>25%</th>\n",
              "      <td>1.042750</td>\n",
              "      <td>0.000000</td>\n",
              "      <td>0.000000</td>\n",
              "      <td>0.000000</td>\n",
              "      <td>0.000000</td>\n",
              "      <td>155.000000</td>\n",
              "      <td>0.000000</td>\n",
              "    </tr>\n",
              "    <tr>\n",
              "      <th>50%</th>\n",
              "      <td>1.466000</td>\n",
              "      <td>0.000000</td>\n",
              "      <td>0.000000</td>\n",
              "      <td>0.000000</td>\n",
              "      <td>0.000000</td>\n",
              "      <td>266.500000</td>\n",
              "      <td>0.500000</td>\n",
              "    </tr>\n",
              "    <tr>\n",
              "      <th>75%</th>\n",
              "      <td>4.956500</td>\n",
              "      <td>0.000000</td>\n",
              "      <td>1.000000</td>\n",
              "      <td>0.000000</td>\n",
              "      <td>0.000000</td>\n",
              "      <td>482.750000</td>\n",
              "      <td>1.000000</td>\n",
              "    </tr>\n",
              "    <tr>\n",
              "      <th>max</th>\n",
              "      <td>4.970000</td>\n",
              "      <td>1.000000</td>\n",
              "      <td>1.000000</td>\n",
              "      <td>5.000000</td>\n",
              "      <td>1.000000</td>\n",
              "      <td>2653.000000</td>\n",
              "      <td>1.000000</td>\n",
              "    </tr>\n",
              "  </tbody>\n",
              "</table>\n",
              "</div>"
            ],
            "text/plain": [
              "       interest_rate      credit  ...     duration           y\n",
              "count     518.000000  518.000000  ...   518.000000  518.000000\n",
              "mean        2.835776    0.034749  ...   382.177606    0.500000\n",
              "std         1.876903    0.183321  ...   344.295990    0.500483\n",
              "min         0.635000    0.000000  ...     9.000000    0.000000\n",
              "25%         1.042750    0.000000  ...   155.000000    0.000000\n",
              "50%         1.466000    0.000000  ...   266.500000    0.500000\n",
              "75%         4.956500    0.000000  ...   482.750000    1.000000\n",
              "max         4.970000    1.000000  ...  2653.000000    1.000000\n",
              "\n",
              "[8 rows x 7 columns]"
            ]
          },
          "metadata": {},
          "execution_count": 4
        }
      ]
    },
    {
      "cell_type": "markdown",
      "metadata": {
        "id": "5tn_A7IZ89Ee"
      },
      "source": [
        "## Declare features and targets"
      ]
    },
    {
      "cell_type": "code",
      "metadata": {
        "id": "L2jxBTdM84bl"
      },
      "source": [
        "# create feature (X) and target (y) variables\n",
        "y = df['y']\n",
        "X1 = df[['interest_rate','credit','march','previous','duration']]"
      ],
      "execution_count": 5,
      "outputs": []
    },
    {
      "cell_type": "markdown",
      "metadata": {
        "id": "dM5H6bzp9MJA"
      },
      "source": [
        "## Train Multivariate Logistic Regression Model"
      ]
    },
    {
      "cell_type": "code",
      "metadata": {
        "colab": {
          "base_uri": "https://localhost:8080/"
        },
        "id": "0aidP4vl9F39",
        "outputId": "c35f0c54-08a5-477b-c82b-016a12147022"
      },
      "source": [
        "# build model\n",
        "X = sm.add_constant(X1) # y-intercept\n",
        "log_reg = sm.Logit(y, X)\n",
        "log_results = log_reg.fit()"
      ],
      "execution_count": 6,
      "outputs": [
        {
          "output_type": "stream",
          "text": [
            "Optimization terminated successfully.\n",
            "         Current function value: 0.336664\n",
            "         Iterations 7\n"
          ],
          "name": "stdout"
        }
      ]
    },
    {
      "cell_type": "code",
      "metadata": {
        "colab": {
          "base_uri": "https://localhost:8080/"
        },
        "id": "sAsOXqY79QPO",
        "outputId": "c241b5a2-1f4a-45b0-a82a-3e543a59fe25"
      },
      "source": [
        "# show summary statistics\n",
        "print(log_results.summary())"
      ],
      "execution_count": 7,
      "outputs": [
        {
          "output_type": "stream",
          "text": [
            "                           Logit Regression Results                           \n",
            "==============================================================================\n",
            "Dep. Variable:                      y   No. Observations:                  518\n",
            "Model:                          Logit   Df Residuals:                      512\n",
            "Method:                           MLE   Df Model:                            5\n",
            "Date:                Fri, 27 Aug 2021   Pseudo R-squ.:                  0.5143\n",
            "Time:                        19:14:51   Log-Likelihood:                -174.39\n",
            "converged:                       True   LL-Null:                       -359.05\n",
            "Covariance Type:            nonrobust   LLR p-value:                 1.211e-77\n",
            "=================================================================================\n",
            "                    coef    std err          z      P>|z|      [0.025      0.975]\n",
            "---------------------------------------------------------------------------------\n",
            "const            -0.0211      0.311     -0.068      0.946      -0.631       0.589\n",
            "interest_rate    -0.8001      0.089     -8.943      0.000      -0.975      -0.625\n",
            "credit            2.3585      1.088      2.169      0.030       0.227       4.490\n",
            "march            -1.8322      0.330     -5.556      0.000      -2.478      -1.186\n",
            "previous          1.5363      0.501      3.067      0.002       0.554       2.518\n",
            "duration          0.0070      0.001      9.381      0.000       0.006       0.008\n",
            "=================================================================================\n"
          ],
          "name": "stdout"
        }
      ]
    },
    {
      "cell_type": "markdown",
      "metadata": {
        "id": "NusN-4p39_ZB"
      },
      "source": [
        "Interpretation:\n",
        "\n",
        "- given the all same circumstances (feature values) except the credit score (which ranges b/w 0 and 1 here), a client that has a credit score of 1 is 2.36 times as likely to pay back their loan as one with a credit score of 0.\n",
        "- vice versa for the other features"
      ]
    },
    {
      "cell_type": "markdown",
      "metadata": {
        "id": "e67nORvu_PfY"
      },
      "source": [
        "## Model Accuracy"
      ]
    },
    {
      "cell_type": "code",
      "metadata": {
        "colab": {
          "base_uri": "https://localhost:8080/"
        },
        "id": "UcPxrPbp9r7g",
        "outputId": "88784828-3513-498e-b583-95976f0175d4"
      },
      "source": [
        "# show confusion matrix\n",
        "log_results.pred_table()"
      ],
      "execution_count": 8,
      "outputs": [
        {
          "output_type": "execute_result",
          "data": {
            "text/plain": [
              "array([[218.,  41.],\n",
              "       [ 30., 229.]])"
            ]
          },
          "metadata": {},
          "execution_count": 8
        }
      ]
    },
    {
      "cell_type": "code",
      "metadata": {
        "colab": {
          "base_uri": "https://localhost:8080/",
          "height": 111
        },
        "id": "E4Ia7jiu_b7O",
        "outputId": "1ba82c39-4290-4e9d-eeeb-fce4b8f850c8"
      },
      "source": [
        "# confusion matrix formatted as df\n",
        "cm_df = pd.DataFrame(log_results.pred_table())\n",
        "cm_df.columns = [\"Predicted 0\", \"Predicted 1\"]\n",
        "cm_df = cm_df.rename(index={0:\"Actual 0\", 1:\"Actual 1\"})\n",
        "cm_df"
      ],
      "execution_count": 9,
      "outputs": [
        {
          "output_type": "execute_result",
          "data": {
            "text/html": [
              "<div>\n",
              "<style scoped>\n",
              "    .dataframe tbody tr th:only-of-type {\n",
              "        vertical-align: middle;\n",
              "    }\n",
              "\n",
              "    .dataframe tbody tr th {\n",
              "        vertical-align: top;\n",
              "    }\n",
              "\n",
              "    .dataframe thead th {\n",
              "        text-align: right;\n",
              "    }\n",
              "</style>\n",
              "<table border=\"1\" class=\"dataframe\">\n",
              "  <thead>\n",
              "    <tr style=\"text-align: right;\">\n",
              "      <th></th>\n",
              "      <th>Predicted 0</th>\n",
              "      <th>Predicted 1</th>\n",
              "    </tr>\n",
              "  </thead>\n",
              "  <tbody>\n",
              "    <tr>\n",
              "      <th>Actual 0</th>\n",
              "      <td>218.0</td>\n",
              "      <td>41.0</td>\n",
              "    </tr>\n",
              "    <tr>\n",
              "      <th>Actual 1</th>\n",
              "      <td>30.0</td>\n",
              "      <td>229.0</td>\n",
              "    </tr>\n",
              "  </tbody>\n",
              "</table>\n",
              "</div>"
            ],
            "text/plain": [
              "          Predicted 0  Predicted 1\n",
              "Actual 0        218.0         41.0\n",
              "Actual 1         30.0        229.0"
            ]
          },
          "metadata": {},
          "execution_count": 9
        }
      ]
    },
    {
      "cell_type": "markdown",
      "metadata": {
        "id": "7ci5iLlj_3YR"
      },
      "source": [
        "- For 218 observations, the model predicted 0 when the true value was 0.\n",
        "- For 30 observations, the model predicted 0 when the true value was 1.\n",
        "- vice versa for when the model predicted 1"
      ]
    },
    {
      "cell_type": "code",
      "metadata": {
        "colab": {
          "base_uri": "https://localhost:8080/"
        },
        "id": "ml5CP8-w_0sp",
        "outputId": "9011a969-478c-41d4-fb23-be4c0d0ad0bb"
      },
      "source": [
        "# calculate actual accuracy\n",
        "cm = np.array(cm_df)\n",
        "accuracy_train = (cm[0,0] + cm[1,1])/cm.sum()\n",
        "accuracy_train"
      ],
      "execution_count": 10,
      "outputs": [
        {
          "output_type": "execute_result",
          "data": {
            "text/plain": [
              "0.862934362934363"
            ]
          },
          "metadata": {},
          "execution_count": 10
        }
      ]
    },
    {
      "cell_type": "markdown",
      "metadata": {
        "id": "iN2V_MQKAofM"
      },
      "source": [
        "The model shows 86% accuracy on the training data."
      ]
    },
    {
      "cell_type": "markdown",
      "metadata": {
        "id": "WmPkoWWJAr33"
      },
      "source": [
        "## Test Model"
      ]
    },
    {
      "cell_type": "code",
      "metadata": {
        "colab": {
          "base_uri": "https://localhost:8080/",
          "height": 204
        },
        "id": "dJY4XV61AnlF",
        "outputId": "7b2846f0-b965-4f9d-fcde-aa7d487e55af"
      },
      "source": [
        "# load test bank csv data and store in df\n",
        "url = \"https://raw.githubusercontent.com/lucaskienast/Classification-Models/main/1)%20Binary%20Classification/Bank_data_testing.csv\"\n",
        "df_test = pd.read_csv(url)\n",
        "df_test = df_test.drop([\"Unnamed: 0\"], axis=1)\n",
        "df_test[\"y\"] = np.where(df_test[\"y\"]==\"yes\", 1, 0)\n",
        "df_test.head()"
      ],
      "execution_count": 11,
      "outputs": [
        {
          "output_type": "execute_result",
          "data": {
            "text/html": [
              "<div>\n",
              "<style scoped>\n",
              "    .dataframe tbody tr th:only-of-type {\n",
              "        vertical-align: middle;\n",
              "    }\n",
              "\n",
              "    .dataframe tbody tr th {\n",
              "        vertical-align: top;\n",
              "    }\n",
              "\n",
              "    .dataframe thead th {\n",
              "        text-align: right;\n",
              "    }\n",
              "</style>\n",
              "<table border=\"1\" class=\"dataframe\">\n",
              "  <thead>\n",
              "    <tr style=\"text-align: right;\">\n",
              "      <th></th>\n",
              "      <th>interest_rate</th>\n",
              "      <th>credit</th>\n",
              "      <th>march</th>\n",
              "      <th>may</th>\n",
              "      <th>previous</th>\n",
              "      <th>duration</th>\n",
              "      <th>y</th>\n",
              "    </tr>\n",
              "  </thead>\n",
              "  <tbody>\n",
              "    <tr>\n",
              "      <th>0</th>\n",
              "      <td>1.313</td>\n",
              "      <td>0.0</td>\n",
              "      <td>1.0</td>\n",
              "      <td>0.0</td>\n",
              "      <td>0.0</td>\n",
              "      <td>487.0</td>\n",
              "      <td>0</td>\n",
              "    </tr>\n",
              "    <tr>\n",
              "      <th>1</th>\n",
              "      <td>4.961</td>\n",
              "      <td>0.0</td>\n",
              "      <td>0.0</td>\n",
              "      <td>0.0</td>\n",
              "      <td>0.0</td>\n",
              "      <td>132.0</td>\n",
              "      <td>0</td>\n",
              "    </tr>\n",
              "    <tr>\n",
              "      <th>2</th>\n",
              "      <td>4.856</td>\n",
              "      <td>0.0</td>\n",
              "      <td>1.0</td>\n",
              "      <td>0.0</td>\n",
              "      <td>0.0</td>\n",
              "      <td>92.0</td>\n",
              "      <td>0</td>\n",
              "    </tr>\n",
              "    <tr>\n",
              "      <th>3</th>\n",
              "      <td>4.120</td>\n",
              "      <td>0.0</td>\n",
              "      <td>0.0</td>\n",
              "      <td>0.0</td>\n",
              "      <td>0.0</td>\n",
              "      <td>1468.0</td>\n",
              "      <td>1</td>\n",
              "    </tr>\n",
              "    <tr>\n",
              "      <th>4</th>\n",
              "      <td>4.963</td>\n",
              "      <td>0.0</td>\n",
              "      <td>0.0</td>\n",
              "      <td>0.0</td>\n",
              "      <td>0.0</td>\n",
              "      <td>36.0</td>\n",
              "      <td>0</td>\n",
              "    </tr>\n",
              "  </tbody>\n",
              "</table>\n",
              "</div>"
            ],
            "text/plain": [
              "   interest_rate  credit  march  may  previous  duration  y\n",
              "0          1.313     0.0    1.0  0.0       0.0     487.0  0\n",
              "1          4.961     0.0    0.0  0.0       0.0     132.0  0\n",
              "2          4.856     0.0    1.0  0.0       0.0      92.0  0\n",
              "3          4.120     0.0    0.0  0.0       0.0    1468.0  1\n",
              "4          4.963     0.0    0.0  0.0       0.0      36.0  0"
            ]
          },
          "metadata": {},
          "execution_count": 11
        }
      ]
    },
    {
      "cell_type": "code",
      "metadata": {
        "id": "tpgJvD_eBJAI"
      },
      "source": [
        "# declare features and targets of test dataset\n",
        "y_test = df_test['y']\n",
        "X1_test = df_test[['interest_rate','credit','march','previous','duration']]\n",
        "X_test = sm.add_constant(X1_test) # y-intercept"
      ],
      "execution_count": 12,
      "outputs": []
    },
    {
      "cell_type": "code",
      "metadata": {
        "id": "tVn6-qALBlUU"
      },
      "source": [
        "def confusion_matrix(data,actual_values,model):\n",
        "        # Confusion matrix \n",
        "        \n",
        "        # Parameters\n",
        "        # ----------\n",
        "        # data: data frame or array\n",
        "            # data is a data frame formatted in the same way as your input data (without the actual values)\n",
        "            # e.g. const, var1, var2, etc. Order is very important!\n",
        "        # actual_values: data frame or array\n",
        "            # These are the actual values from the test_data\n",
        "            # In the case of a logistic regression, it should be a single column with 0s and 1s\n",
        "            \n",
        "        # model: a LogitResults object\n",
        "            # this is the variable where you have the fitted model \n",
        "            # e.g. results_log in this course\n",
        "        # ----------\n",
        "        \n",
        "        #Predict the values using the Logit model\n",
        "        pred_values = model.predict(data)\n",
        "        # Specify the bins \n",
        "        bins=np.array([0,0.5,1])\n",
        "        # Create a histogram, where if values are between 0 and 0.5 tell will be considered 0\n",
        "        # if they are between 0.5 and 1, they will be considered 1\n",
        "        cm = np.histogram2d(actual_values, pred_values, bins=bins)[0]\n",
        "        # Calculate the accuracy\n",
        "        accuracy = (cm[0,0]+cm[1,1])/cm.sum()\n",
        "        # Return the confusion matrix and \n",
        "        return cm, accuracy"
      ],
      "execution_count": 13,
      "outputs": []
    },
    {
      "cell_type": "code",
      "metadata": {
        "colab": {
          "base_uri": "https://localhost:8080/"
        },
        "id": "nMuXnMUECMA4",
        "outputId": "fc1a648c-2440-41a4-cd70-2236bbc60b1d"
      },
      "source": [
        "confusion_matrix(X_test, y_test, log_results)"
      ],
      "execution_count": 14,
      "outputs": [
        {
          "output_type": "execute_result",
          "data": {
            "text/plain": [
              "(array([[93., 18.],\n",
              "        [13., 98.]]), 0.8603603603603603)"
            ]
          },
          "metadata": {},
          "execution_count": 14
        }
      ]
    },
    {
      "cell_type": "markdown",
      "metadata": {
        "id": "-lfXeX-sCXRi"
      },
      "source": [
        "The model performs slightly worse on the test data, which is expected."
      ]
    },
    {
      "cell_type": "code",
      "metadata": {
        "id": "8aRKLsoWCRj_"
      },
      "source": [
        ""
      ],
      "execution_count": 14,
      "outputs": []
    }
  ]
}