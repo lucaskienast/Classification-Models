{
  "nbformat": 4,
  "nbformat_minor": 0,
  "metadata": {
    "colab": {
      "name": "1) Imbalanced Theory.ipynb",
      "provenance": [],
      "collapsed_sections": []
    },
    "kernelspec": {
      "name": "python3",
      "display_name": "Python 3"
    },
    "language_info": {
      "name": "python"
    }
  },
  "cells": [
    {
      "cell_type": "markdown",
      "metadata": {
        "id": "SKchYcVPXYoo"
      },
      "source": [
        "# Imbalanced Classification: Theory\n",
        "\n",
        "Imbalanced classification refers to classification tasks where the number of examples in each class is unequally distributed. Typically, imbalanced classification tasks are binary classification tasks where the majority of examples in the training dataset belong to the normal class and a minority of examples belong to the abnormal class. These problems are modeled as binary classification tasks, although may require specialized techniques. Example applications include:\n",
        "\n",
        "- Fraud detection\n",
        "- Outlier detection\n",
        "- Medical diagnostic tests\n",
        "\n",
        "Specialized techniques may be used to change the composition of samples in the training dataset by undersampling the majority class or oversampling the minority class. Examples include:\n",
        "\n",
        "- Random Undersampling\n",
        "- SMOTE Oversampling\n",
        "\n",
        "Specialized modeling algorithms may be used that pay more attention to the minority class when fitting the model on the training dataset, such as cost-sensitive machine learning algorithms. Examples include:\n",
        "\n",
        "- Cost-sensitive Logistic Regression\n",
        "- Cost-sensitive Decision Trees\n",
        "- Cost-sensitive Support Vector Machines\n",
        "\n",
        "Finally, alternative performance metrics may be required as reporting the classification accuracy may be misleading. Examples include:\n",
        "\n",
        "- Precision\n",
        "- Recall\n",
        "- F-Measure\n",
        "\n",
        "Next, let’s take a closer look at a dataset to develop an intuition for imbalanced classification problems. We can use the make_classification() function to generate a synthetic imbalanced binary classification dataset. The example below generates a dataset with 1,000 examples that belong to one of two classes, each with two input features."
      ]
    },
    {
      "cell_type": "markdown",
      "metadata": {
        "id": "wUDF32p4ZW3F"
      },
      "source": [
        "## Import libraries"
      ]
    },
    {
      "cell_type": "code",
      "metadata": {
        "id": "m-0yWyxMXLJW"
      },
      "source": [
        "import numpy as np\n",
        "import matplotlib.pyplot as plt\n",
        "from sklearn.datasets import make_classification\n",
        "from collections import Counter"
      ],
      "execution_count": 1,
      "outputs": []
    },
    {
      "cell_type": "markdown",
      "metadata": {
        "id": "O4bnO_NVZkv0"
      },
      "source": [
        "## Create dataset"
      ]
    },
    {
      "cell_type": "code",
      "metadata": {
        "id": "IbANd2uQZkGS"
      },
      "source": [
        "# define dataset\n",
        "X, y = make_classification(n_samples=1000, n_features=2, n_informative=2, n_redundant=0, n_classes=2, n_clusters_per_class=1, weights=[0.99,0.01], random_state=1)"
      ],
      "execution_count": 2,
      "outputs": []
    },
    {
      "cell_type": "markdown",
      "metadata": {
        "id": "zeDKyawbZuUX"
      },
      "source": [
        "## Explore dataset"
      ]
    },
    {
      "cell_type": "code",
      "metadata": {
        "colab": {
          "base_uri": "https://localhost:8080/"
        },
        "id": "MZUk5OMYZtrA",
        "outputId": "065741d6-3db7-4c24-d04a-3213c4838a90"
      },
      "source": [
        "# summarize dataset shape\n",
        "print(X.shape, y.shape)"
      ],
      "execution_count": 3,
      "outputs": [
        {
          "output_type": "stream",
          "text": [
            "(1000, 2) (1000,)\n"
          ],
          "name": "stdout"
        }
      ]
    },
    {
      "cell_type": "code",
      "metadata": {
        "colab": {
          "base_uri": "https://localhost:8080/"
        },
        "id": "D4Sp93BmZxFB",
        "outputId": "7b193fbc-747b-4209-d5fb-0c4f07d52b8a"
      },
      "source": [
        "# summarize observations by class label\n",
        "counter = Counter(y)\n",
        "print(counter)"
      ],
      "execution_count": 4,
      "outputs": [
        {
          "output_type": "stream",
          "text": [
            "Counter({0: 983, 1: 17})\n"
          ],
          "name": "stdout"
        }
      ]
    },
    {
      "cell_type": "code",
      "metadata": {
        "colab": {
          "base_uri": "https://localhost:8080/"
        },
        "id": "1Pnw7mdXZ51Z",
        "outputId": "35fac2f1-fc5f-46c3-c332-6bd1f3bd5e4c"
      },
      "source": [
        "# summarize first few examples\n",
        "for i in range(10):\n",
        "\tprint(X[i], y[i])"
      ],
      "execution_count": 5,
      "outputs": [
        {
          "output_type": "stream",
          "text": [
            "[0.86924745 1.18613612] 0\n",
            "[1.55110839 1.81032905] 0\n",
            "[1.29361936 1.01094607] 0\n",
            "[1.11988947 1.63251786] 0\n",
            "[1.04235568 1.12152929] 0\n",
            "[1.18114858 0.92397607] 0\n",
            "[1.1365562  1.17652556] 0\n",
            "[0.46291729 0.72924998] 0\n",
            "[0.18315826 1.07141766] 0\n",
            "[0.32411648 0.53515376] 0\n"
          ],
          "name": "stdout"
        }
      ]
    },
    {
      "cell_type": "markdown",
      "metadata": {
        "id": "c-iZPKGEau8D"
      },
      "source": [
        "## Plot data"
      ]
    },
    {
      "cell_type": "code",
      "metadata": {
        "colab": {
          "base_uri": "https://localhost:8080/",
          "height": 446
        },
        "id": "0Ye9wX5CabVE",
        "outputId": "924dbf9c-e6e6-4882-83bd-acfe5d8bf065"
      },
      "source": [
        "# plot the dataset and color the by class label\n",
        "plt.figure(figsize=(14,7))\n",
        "\n",
        "for label, popsize in counter.items():\n",
        "\trow_idx = np.where(y == label)[0]\n",
        "\tplt.scatter(X[row_idx, 0], X[row_idx, 1], label=str(label))\n",
        " \n",
        "plt.legend(fontsize=14)\n",
        "plt.xlabel(\"X\", fontsize=14)\n",
        "plt.ylabel(\"y\", fontsize=14)\n",
        "plt.show()"
      ],
      "execution_count": 6,
      "outputs": [
        {
          "output_type": "display_data",
          "data": {
            "image/png": "[encoded data removed]",
            "text/plain": [
              "<Figure size 1008x504 with 1 Axes>"
            ]
          },
          "metadata": {
            "needs_background": "light"
          }
        }
      ]
    },
    {
      "cell_type": "code",
      "metadata": {
        "id": "OSN01Xwqa3Da"
      },
      "source": [
        ""
      ],
      "execution_count": 6,
      "outputs": []
    }
  ]
}