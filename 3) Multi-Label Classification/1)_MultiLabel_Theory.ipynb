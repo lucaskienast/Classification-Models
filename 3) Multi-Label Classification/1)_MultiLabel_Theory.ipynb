{
  "nbformat": 4,
  "nbformat_minor": 0,
  "metadata": {
    "colab": {
      "name": "1) MultiLabel Theory.ipynb",
      "provenance": [],
      "collapsed_sections": []
    },
    "kernelspec": {
      "name": "python3",
      "display_name": "Python 3"
    },
    "language_info": {
      "name": "python"
    }
  },
  "cells": [
    {
      "cell_type": "markdown",
      "metadata": {
        "id": "kOxKobRRTx-m"
      },
      "source": [
        "# Multi-Label Classification: Theory\n",
        "\n",
        "Multi-label classification refers to those classification tasks that have two or more class labels, where one or more class labels may be predicted for each example. Consider the example of photo classification, where a given photo may have multiple objects in the scene and a model may predict the presence of multiple known objects in the photo, such as “bicycle,” “apple,” “person,” etc. This is unlike binary classification and multi-class classification, where a single class label is predicted for each example.\n",
        "\n",
        "It is common to model multi-label classification tasks with a model that predicts multiple outputs, with each output taking predicted as a Bernoulli probability distribution. This is essentially a model that makes multiple binary classification predictions for each example. Classification algorithms used for binary or multi-class classification cannot be used directly for multi-label classification. Specialized versions of standard classification algorithms can be used, so-called multi-label versions of the algorithms, including:\n",
        "\n",
        "- Multi-label Decision Trees\n",
        "- Multi-label Random Forests\n",
        "- Multi-label Gradient Boosting\n",
        "\n",
        "Another approach is to use a separate classification algorithm to predict the labels for each class.\n",
        "\n",
        "Next, let’s take a closer look at a dataset to develop an intuition for multi-label classification problems. We can use the make_multilabel_classification() function to generate a synthetic multi-label classification dataset. The example below generates a dataset with 1,000 examples, each with two input features. There are three classes, each of which may take on one of two labels (0 or 1)."
      ]
    },
    {
      "cell_type": "markdown",
      "metadata": {
        "id": "2OjWeBb3VVab"
      },
      "source": [
        "## Import libraries"
      ]
    },
    {
      "cell_type": "code",
      "metadata": {
        "id": "3mgYDjq8TtIY"
      },
      "source": [
        "import numpy as np\n",
        "import matplotlib.pyplot as plt\n",
        "from sklearn.datasets import make_multilabel_classification"
      ],
      "execution_count": 1,
      "outputs": []
    },
    {
      "cell_type": "markdown",
      "metadata": {
        "id": "gAoDFlm6Vhdc"
      },
      "source": [
        "## Create dataset"
      ]
    },
    {
      "cell_type": "code",
      "metadata": {
        "id": "G1GPZAIcVgpA"
      },
      "source": [
        "# define dataset\n",
        "X, y = make_multilabel_classification(n_samples=1000, n_features=2, n_classes=3, n_labels=2, random_state=1)"
      ],
      "execution_count": 2,
      "outputs": []
    },
    {
      "cell_type": "markdown",
      "metadata": {
        "id": "CQKrWoy5VoaX"
      },
      "source": [
        "## Explore dataset"
      ]
    },
    {
      "cell_type": "code",
      "metadata": {
        "colab": {
          "base_uri": "https://localhost:8080/"
        },
        "id": "EKHe1ssPVnuc",
        "outputId": "d346d741-9a7a-4be3-a362-c03978f3263c"
      },
      "source": [
        "# summarize dataset shape\n",
        "print(X.shape, y.shape)"
      ],
      "execution_count": 3,
      "outputs": [
        {
          "output_type": "stream",
          "text": [
            "(1000, 2) (1000, 3)\n"
          ],
          "name": "stdout"
        }
      ]
    },
    {
      "cell_type": "code",
      "metadata": {
        "colab": {
          "base_uri": "https://localhost:8080/"
        },
        "id": "FC3YzydtVq8f",
        "outputId": "745b748e-b00d-49b7-ef7d-ed78377f9dcd"
      },
      "source": [
        "# summarize first few examples\n",
        "for i in range(10):\n",
        "\tprint(X[i], y[i])"
      ],
      "execution_count": 4,
      "outputs": [
        {
          "output_type": "stream",
          "text": [
            "[18. 35.] [1 1 1]\n",
            "[22. 33.] [1 1 1]\n",
            "[26. 36.] [1 1 1]\n",
            "[24. 28.] [1 1 0]\n",
            "[23. 27.] [1 1 0]\n",
            "[15. 31.] [0 1 0]\n",
            "[20. 37.] [0 1 0]\n",
            "[18. 31.] [1 1 1]\n",
            "[29. 27.] [1 0 0]\n",
            "[29. 28.] [1 1 0]\n"
          ],
          "name": "stdout"
        }
      ]
    }
  ]
}